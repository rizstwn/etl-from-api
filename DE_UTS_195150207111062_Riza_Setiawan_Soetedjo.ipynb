{
  "nbformat": 4,
  "nbformat_minor": 0,
  "metadata": {
    "colab": {
      "name": "DE-UTS_195150207111062_Riza Setiawan Soetedjo",
      "provenance": [],
      "collapsed_sections": [
        "wgcjI6u5IPpO",
        "WJROJYe49ade",
        "5-Lolt-i9z9I",
        "c0N-D91Z-pwq",
        "rqsC_QXMAAhe",
        "7Jac5r-BBw6x",
        "UQ1FsbrwC2nH",
        "ojKLfKLkQfxr"
      ]
    },
    "kernelspec": {
      "name": "python3",
      "display_name": "Python 3"
    },
    "language_info": {
      "name": "python"
    }
  },
  "cells": [
    {
      "cell_type": "markdown",
      "metadata": {
        "id": "f3O1PbJ1-urW"
      },
      "source": [
        "#Ujian Tengah Semester Data Engineering\n",
        "\n",
        "---\n",
        "\n",
        "\n",
        "Nama : Riza Setiawan Soetedjo\n",
        "\n",
        "NIM : 195150207111062\n",
        "\n",
        "Kelas : DE-B"
      ]
    },
    {
      "cell_type": "markdown",
      "metadata": {
        "id": "wgcjI6u5IPpO"
      },
      "source": [
        "#Retrieve Data Menggunakan API"
      ]
    },
    {
      "cell_type": "markdown",
      "metadata": {
        "id": "dHqtq0m63bwL"
      },
      "source": [
        "API yang digunakan adalah API yang menyimpan data berupa karakter, lokasi, dan episode dari serial TV Rick And Morty. Pertama-tama mengambil data json dari tiap-tiap API. Baris pertama mengambil data karakter, baris kedua mengambil data lokasi, dan baris ketiga mengambil data episode.\n",
        "\n",
        "Sayangnya, API ini membatasi sehingga **hanya 20 data saja yang bisa diakses dalam 1 page**."
      ]
    },
    {
      "cell_type": "code",
      "metadata": {
        "id": "h-nRQv-HWHIj",
        "colab": {
          "base_uri": "https://localhost:8080/"
        },
        "outputId": "975ae343-6827-4282-bfcb-043821966d03"
      },
      "source": [
        "#API membatasi 20 data per page\n",
        "!wget https://rickandmortyapi.com/api/character\n",
        "!wget https://rickandmortyapi.com/api/location\n",
        "!wget https://rickandmortyapi.com/api/episode"
      ],
      "execution_count": 1,
      "outputs": [
        {
          "output_type": "stream",
          "name": "stdout",
          "text": [
            "--2021-10-29 14:33:59--  https://rickandmortyapi.com/api/character\n",
            "Resolving rickandmortyapi.com (rickandmortyapi.com)... 157.245.84.7, 68.183.27.198\n",
            "Connecting to rickandmortyapi.com (rickandmortyapi.com)|157.245.84.7|:443... connected.\n",
            "HTTP request sent, awaiting response... 200 OK\n",
            "Length: 17412 (17K) [application/json]\n",
            "Saving to: ‘character’\n",
            "\n",
            "character           100%[===================>]  17.00K  --.-KB/s    in 0.1s    \n",
            "\n",
            "2021-10-29 14:34:00 (168 KB/s) - ‘character’ saved [17412/17412]\n",
            "\n",
            "--2021-10-29 14:34:00--  https://rickandmortyapi.com/api/location\n",
            "Resolving rickandmortyapi.com (rickandmortyapi.com)... 157.245.84.7, 68.183.27.198\n",
            "Connecting to rickandmortyapi.com (rickandmortyapi.com)|157.245.84.7|:443... connected.\n",
            "HTTP request sent, awaiting response... 200 OK\n",
            "Length: 22310 (22K) [application/json]\n",
            "Saving to: ‘location’\n",
            "\n",
            "location            100%[===================>]  21.79K  --.-KB/s    in 0.02s   \n",
            "\n",
            "2021-10-29 14:34:00 (1.17 MB/s) - ‘location’ saved [22310/22310]\n",
            "\n",
            "--2021-10-29 14:34:00--  https://rickandmortyapi.com/api/episode\n",
            "Resolving rickandmortyapi.com (rickandmortyapi.com)... 157.245.84.7, 68.183.27.198\n",
            "Connecting to rickandmortyapi.com (rickandmortyapi.com)|157.245.84.7|:443... connected.\n",
            "HTTP request sent, awaiting response... 200 OK\n",
            "Length: 28095 (27K) [application/json]\n",
            "Saving to: ‘episode’\n",
            "\n",
            "episode             100%[===================>]  27.44K  --.-KB/s    in 0.02s   \n",
            "\n",
            "2021-10-29 14:34:01 (1.21 MB/s) - ‘episode’ saved [28095/28095]\n",
            "\n"
          ]
        }
      ]
    },
    {
      "cell_type": "markdown",
      "metadata": {
        "id": "usZwyxPk4ZHr"
      },
      "source": [
        "Sebelum itu, kita mengimport semua library yang akan kita gunakan nantinya selama proses berlangsung."
      ]
    },
    {
      "cell_type": "code",
      "metadata": {
        "id": "44Etm-0_JeeK"
      },
      "source": [
        "#Import library\n",
        "import os\n",
        "import pandas as pd\n",
        "import numpy as np\n",
        "import urllib.request\n",
        "import json\n",
        "from datetime import datetime\n",
        "import sqlite3"
      ],
      "execution_count": 2,
      "outputs": []
    },
    {
      "cell_type": "markdown",
      "metadata": {
        "id": "j8YJhM-w4vCU"
      },
      "source": [
        "Untuk memudahkan logging nantinya, fungsi log ini akan dibuat sehingga mengurangi baris kode selama proses nantinya jika ingin melakukan logging. Loggingnya akan dibuat dalam format `[Tanggal] Deskripsi aktivitas`"
      ]
    },
    {
      "cell_type": "code",
      "metadata": {
        "id": "U5oeyVNCJXLx"
      },
      "source": [
        "#Fungsi untuk Logging\n",
        "def log(msg):\n",
        "  timestamp_format = '%d-%h-%Y %H:%M:%S'\n",
        "  timestamp = datetime.now().strftime(timestamp_format)\n",
        "  with open('logfile.txt','a') as f:\n",
        "    f.write(f'[{timestamp}] {msg}\\n'.format(timestamp, msg))"
      ],
      "execution_count": 3,
      "outputs": []
    },
    {
      "cell_type": "markdown",
      "metadata": {
        "id": "73vnk5JTIcVt"
      },
      "source": [
        "#Extract Data"
      ]
    },
    {
      "cell_type": "markdown",
      "metadata": {
        "id": "ubWH8XeD5Y-U"
      },
      "source": [
        "Fungsi ini merupakan fungsi untuk melakukan extract dari file yang telah didownload dari API. Seperti yang disebutkan sebelumnya, file yang didownload dari API hanya akan memberikan 20 data, tetapi pada file tersebut terdapat juga url untuk ke page selanjutnya, dan banyak page untuk semua data.\n",
        "\n",
        "Pertama, info banyak page dan urlnya akan diambil dari file yang telah didownload. Kemudian melakukan looping untuk mengambil data dari tiap page. Data tiap page tersebut akan disimpan dalam array bernama `total_data`.\n",
        "\n",
        "Setelah itu, membuat file json baru dengan `total_data` sebagai isinya dan mengembalikan `total_data` setelah diubah menjadi DataFrame."
      ]
    },
    {
      "cell_type": "code",
      "metadata": {
        "id": "vqhYvBwgsnnJ"
      },
      "source": [
        "def extract(json_temp, filename):\n",
        "  log(f\"Extract dari file {filename[:-5]} dan membuat file {filename}\")\n",
        "  n_pages = json_temp['info']['pages']\n",
        "  url = json_temp['info']['next'][:-1]\n",
        "  total_data = []\n",
        "  for i in range(1,n_pages+1):\n",
        "    link = url+str(i)\n",
        "    data = json.loads(urllib.request.urlopen(link).read())\n",
        "    total_data += data['results']\n",
        "  with open(filename,'a') as f:\n",
        "    f.write(json.dumps(total_data))\n",
        "  os.remove(filename[:-5])\n",
        "  return (pd.DataFrame(total_data))"
      ],
      "execution_count": 4,
      "outputs": []
    },
    {
      "cell_type": "markdown",
      "metadata": {
        "id": "0z1llntM7axR"
      },
      "source": [
        "Fungsi extract dijalankan untuk tiap file. Setiap DataFrame yang dikembalikan akan disimpan dalam variabel. DataFrame - DataFrame inilah yang akan digunakan untuk proses Tranformasi hingga Load."
      ]
    },
    {
      "cell_type": "code",
      "metadata": {
        "id": "y4VH85Wo8v5P"
      },
      "source": [
        "log('Fase Extract dimulai')\n",
        "\n",
        "json_chara = json.load(open('character'))\n",
        "df_chara = extract(json_chara, 'character.json')\n",
        "\n",
        "json_location = json.load(open('location'))\n",
        "df_location = extract(json_location, 'location.json')\n",
        "\n",
        "json_eps = json.load(open('episode'))\n",
        "df_eps = extract(json_eps, 'episode.json')\n",
        "\n",
        "log('Fase Extract selesai')"
      ],
      "execution_count": 5,
      "outputs": []
    },
    {
      "cell_type": "markdown",
      "metadata": {
        "id": "EBvJpZg1Ik0F"
      },
      "source": [
        "#Transform Data"
      ]
    },
    {
      "cell_type": "markdown",
      "metadata": {
        "id": "xWq9eLx7LvM8"
      },
      "source": [
        "## Schema Data\n",
        "\n",
        "Berikut data dictionary atau schema dari tiap data yang diambil dari API"
      ]
    },
    {
      "cell_type": "markdown",
      "metadata": {
        "id": "nCXP3BUfL6fM"
      },
      "source": [
        "###Character\n",
        "\n",
        "| No. | Nama Atribut | Tipe Data   | Deskripsi Data                                                                   | Contoh Data                                                                                 |\n",
        "|-----|--------------|-------------|----------------------------------------------------------------------------------|---------------------------------------------------------------------------------------------|\n",
        "| 1.  | id           | int         | Id tiap character                                                                | 1                                                                                           |\n",
        "| 2.  | name         | string      | Nama tiap character                                                              | Rick Sanchez                                                                                |\n",
        "| 3.  | status       | string      | Status tiap character antara <br>\"Alive\", \"Dead\", atau \"Unknown\"                 | Alive                                                                                       |\n",
        "| 4.  | species      | string      | Spesies character                                                                | Human                                                                                       |\n",
        "| 5.  | type         | string      | Tipe atau subspesies character                                                   | Parasite                                                                                    |\n",
        "| 6.  | gender       | string      | Jenis kelamin character antara \"Female\", <br>\"Male\", \"Genderless\", dan \"Unknown\" | Male                                                                                        |\n",
        "| 7.  | origin       | object      | Nama dan link dari lokasi asal character                                         | {'name' :'Earth (C-137)', 'url':'https://rickandmortyapi.com/api/location/1 '}              |\n",
        "| 8.  | location     | object      | Nama dan link dari lokasi terakhir character                                     | {'name' :'Earth (C-137)', 'url':'https://rickandmortyapi.com/api/location/1 '}              |\n",
        "| 9.  | image        | string(url) | Tautan ke gambar 300x300px character                                             | https://rickandmortyapi.com/api/character/avatar/1.jpeg                                     |\n",
        "| 10. | episode      | array(urls) | Daftar episode dimana character muncul                                           | ['https://rickandmortyapi.com/api/episode/1 ','https://rickandmortyapi.com/api/episode/2 '] |\n",
        "| 11. | url          | string(url) | Tautan ke data character                                                         | https://rickandmortyapi.com/api/character/1                                                 |\n",
        "| 12. | created      | string      | Waktu saat character ditambahkan ke database                                     | 2017-11-04T18:48:46.250Z                                                                    |"
      ]
    },
    {
      "cell_type": "markdown",
      "metadata": {
        "id": "vchbYlK-RCVt"
      },
      "source": [
        "###Location\n",
        "\n",
        "| No. | Nama Atribut | Tipe Data   | Deskripsi Data                                                      | Contoh Data                                                                                        |\n",
        "|-----|--------------|-------------|---------------------------------------------------------------------|----------------------------------------------------------------------------------------------------|\n",
        "| 1.  | id           | int         | Id tiap location                                                    | 1                                                                                                  |\n",
        "| 2.  | name         | string      | Nama tiap location                                                  | Earth (C-137)                                                                                      |\n",
        "| 3.  | type         | string      | Tipe tiap location                                                  | Planet                                                                                             |\n",
        "| 4.  | dimension    | string      | Dimensi tempat location berada                                      | Dimension C-137                                                                                    |\n",
        "| 5.  | residents    | array(urls) | Daftar tautan data character yang terakhir <br>terlihat di location | ['https://rickandmortyapi.com/api/character/38 ', 'https://rickandmortyapi.com/api/character/45 '] |\n",
        "| 6.  | url          | string(url) | Tautan ke data location                                             | https://rickandmortyapi.com/api/location/1                                                         |\n",
        "| 7.  | created      | string      | Waktu saat location ditambahkan ke database                         | 2017-11-04T18:48:46.250Z                                                                           |"
      ]
    },
    {
      "cell_type": "markdown",
      "metadata": {
        "id": "mINmP5dCSXgI"
      },
      "source": [
        "###Episode\n",
        "\n",
        "| No. | Nama Atribut | Tipe Data   | Deskripsi Data                                        | Contoh Data                                                                                        |\n",
        "|-----|--------------|-------------|-------------------------------------------------------|----------------------------------------------------------------------------------------------------|\n",
        "| 1.  | id           | int         | Id tiap episode                                       | 1                                                                                                  |\n",
        "| 2.  | name         | string      | Nama tiap episode                                     | Pilot                                                                                              |\n",
        "| 3.  | air_date     | string      | Tanggal siar episode                                  | December 2, 2013                                                                                   |\n",
        "| 4.  | episode      | string      | Kode tiap episode                                     | S01E01                                                                                             |\n",
        "| 5.  | characters   | array(urls) | Daftar tautan data character yang ada pada<br>episode | ['https://rickandmortyapi.com/api/character/38 ', 'https://rickandmortyapi.com/api/character/45 '] |\n",
        "| 6.  | url          | string(url) | Tautan ke data episode                                | https://rickandmortyapi.com/api/episode/1                                                          |\n",
        "| 7.  | created      | string      | Waktu saat episode ditambahkan ke database            | 2017-11-04T18:48:46.250Z                                                                           |"
      ]
    },
    {
      "cell_type": "markdown",
      "metadata": {
        "id": "2bNQASelYuMG"
      },
      "source": [
        "###Rencana Database\n",
        "\n",
        "![image.png](data:image/png;base64,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)"
      ]
    },
    {
      "cell_type": "markdown",
      "metadata": {
        "id": "wjSS1fItL25e"
      },
      "source": [
        "##Proses Transform"
      ]
    },
    {
      "cell_type": "markdown",
      "metadata": {
        "id": "WJROJYe49ade"
      },
      "source": [
        "### Hapus Kolom\n",
        "\n",
        "Tahap pertama pada Transform adalah menghapus kolom yang tidak relevan pada DataFrame.\n",
        "\n",
        "Kolom url yang menyimpan tautan ke tiap data dan kolom created yang menyimpan waktu kapan data masuk ke database tidaklah terlalu relevan sebagai data. \n",
        "\n",
        "Pertama, kolom url menyimpan data yang telah kita masukkan di DataFrame sehingga tidak akan digunakan sama sekali. Kedua, kolom created menyimpan waktu yang masuk ke database dan bukanlah seperti waktu kapan karakter tersebut muncul sehingga tidaklah terlalu relevan untuk digunakan.\n",
        "\n",
        "Terakhir kita mengecek info DataFrame untuk melihat apakah kolom tersebut telah terhapus atau tidak"
      ]
    },
    {
      "cell_type": "code",
      "metadata": {
        "id": "eGbvokUiZ0hc"
      },
      "source": [
        "log(\"Fase Transform dimulai\")\n",
        "#Hapus kolom tidak relevan (url, created) pada Character, Location, dan Episode\n",
        "def hapusKolom(columns,df, nama_df):\n",
        "  for column in columns:\n",
        "    if column in df.columns:\n",
        "      log(f'Hapus kolom {column} dari DataFrame {nama_df}')\n",
        "      df = df.drop(columns=[column])\n",
        "  return df\n",
        "\n",
        "df_chara = hapusKolom(['url','created'], df_chara, \"Character\")\n",
        "df_location = hapusKolom(['url','created'], df_location, \"Location\")\n",
        "df_eps = hapusKolom(['url','created'], df_eps, \"Episode\")"
      ],
      "execution_count": 6,
      "outputs": []
    },
    {
      "cell_type": "code",
      "metadata": {
        "colab": {
          "base_uri": "https://localhost:8080/"
        },
        "id": "O607E66PCxOw",
        "outputId": "24ef5ce6-882c-4e76-a6bf-48b0477befff"
      },
      "source": [
        "df_chara.info()"
      ],
      "execution_count": 7,
      "outputs": [
        {
          "output_type": "stream",
          "name": "stdout",
          "text": [
            "<class 'pandas.core.frame.DataFrame'>\n",
            "RangeIndex: 671 entries, 0 to 670\n",
            "Data columns (total 10 columns):\n",
            " #   Column    Non-Null Count  Dtype \n",
            "---  ------    --------------  ----- \n",
            " 0   id        671 non-null    int64 \n",
            " 1   name      671 non-null    object\n",
            " 2   status    671 non-null    object\n",
            " 3   species   671 non-null    object\n",
            " 4   type      671 non-null    object\n",
            " 5   gender    671 non-null    object\n",
            " 6   origin    671 non-null    object\n",
            " 7   location  671 non-null    object\n",
            " 8   image     671 non-null    object\n",
            " 9   episode   671 non-null    object\n",
            "dtypes: int64(1), object(9)\n",
            "memory usage: 52.5+ KB\n"
          ]
        }
      ]
    },
    {
      "cell_type": "code",
      "metadata": {
        "colab": {
          "base_uri": "https://localhost:8080/"
        },
        "id": "v33Jw0XXC2yf",
        "outputId": "2b648c77-3eef-4779-bf79-98413e52f888"
      },
      "source": [
        "df_location.info()"
      ],
      "execution_count": 8,
      "outputs": [
        {
          "output_type": "stream",
          "name": "stdout",
          "text": [
            "<class 'pandas.core.frame.DataFrame'>\n",
            "RangeIndex: 108 entries, 0 to 107\n",
            "Data columns (total 5 columns):\n",
            " #   Column     Non-Null Count  Dtype \n",
            "---  ------     --------------  ----- \n",
            " 0   id         108 non-null    int64 \n",
            " 1   name       108 non-null    object\n",
            " 2   type       108 non-null    object\n",
            " 3   dimension  108 non-null    object\n",
            " 4   residents  108 non-null    object\n",
            "dtypes: int64(1), object(4)\n",
            "memory usage: 4.3+ KB\n"
          ]
        }
      ]
    },
    {
      "cell_type": "code",
      "metadata": {
        "colab": {
          "base_uri": "https://localhost:8080/"
        },
        "id": "AsOUivwYC4TE",
        "outputId": "744d5f63-75fd-4b07-ae97-471d0bf30e37"
      },
      "source": [
        "df_eps.info()"
      ],
      "execution_count": 9,
      "outputs": [
        {
          "output_type": "stream",
          "name": "stdout",
          "text": [
            "<class 'pandas.core.frame.DataFrame'>\n",
            "RangeIndex: 41 entries, 0 to 40\n",
            "Data columns (total 5 columns):\n",
            " #   Column      Non-Null Count  Dtype \n",
            "---  ------      --------------  ----- \n",
            " 0   id          41 non-null     int64 \n",
            " 1   name        41 non-null     object\n",
            " 2   air_date    41 non-null     object\n",
            " 3   episode     41 non-null     object\n",
            " 4   characters  41 non-null     object\n",
            "dtypes: int64(1), object(4)\n",
            "memory usage: 1.7+ KB\n"
          ]
        }
      ]
    },
    {
      "cell_type": "markdown",
      "metadata": {
        "id": "5-Lolt-i9z9I"
      },
      "source": [
        "### Mengganti nilai kosong dengan nilai null\n",
        "\n",
        "Jika melihat pada info sebelumnya, tidak ada data null yang terdeteksi padahal ada beberapa bagian yang nilainya kosong atau hanya berisi `''`. Hal ini dikarenakan DataFrame tidak mengganggap nilai kosong tersebut sebagai null. Oleh karena itu, kita menyamakan semua nilai kosong menjadi np.nan sehingga dapat terdeteksi oleh DataFrame.\n",
        "\n",
        "Hasil akhir dapat dilihat kalau ada nilai null pada DataFrame `character` pada kolom `type`"
      ]
    },
    {
      "cell_type": "code",
      "metadata": {
        "id": "qKWFljP9dGQp"
      },
      "source": [
        "#Isi nilai kosong dengan null\n",
        "def isiNull(df, nama_df, value):\n",
        "  log(f\"Mengganti nilai {(value if value!='' else 'kosong')} menjadi np.nan pada DataFrame {nama_df}\")\n",
        "\n",
        "  regex = r'^\\s*$' if value=='' else fr'(?i)^{value}$'\n",
        "  df = df.replace(regex, np.nan, regex=True)\n",
        "  return df\n",
        "\n",
        "df_chara = isiNull(df_chara, \"Character\", '')\n",
        "df_location = isiNull(df_location, \"Location\", '')\n",
        "df_eps = isiNull(df_eps, \"Episode\", '')"
      ],
      "execution_count": 10,
      "outputs": []
    },
    {
      "cell_type": "code",
      "metadata": {
        "colab": {
          "base_uri": "https://localhost:8080/"
        },
        "id": "YIAUQXbbhiFA",
        "outputId": "a902920b-a1ec-4dbd-ce33-70e428bc1495"
      },
      "source": [
        "df_chara.isnull().sum()"
      ],
      "execution_count": 11,
      "outputs": [
        {
          "output_type": "execute_result",
          "data": {
            "text/plain": [
              "id            0\n",
              "name          0\n",
              "status        0\n",
              "species       0\n",
              "type        347\n",
              "gender        0\n",
              "origin        0\n",
              "location      0\n",
              "image         0\n",
              "episode       0\n",
              "dtype: int64"
            ]
          },
          "metadata": {},
          "execution_count": 11
        }
      ]
    },
    {
      "cell_type": "code",
      "metadata": {
        "colab": {
          "base_uri": "https://localhost:8080/"
        },
        "id": "2-HFOWo_hUWT",
        "outputId": "05de4335-abce-47b9-bb93-cfd1a17e3b54"
      },
      "source": [
        "df_location.isnull().sum()"
      ],
      "execution_count": 12,
      "outputs": [
        {
          "output_type": "execute_result",
          "data": {
            "text/plain": [
              "id           0\n",
              "name         0\n",
              "type         0\n",
              "dimension    0\n",
              "residents    0\n",
              "dtype: int64"
            ]
          },
          "metadata": {},
          "execution_count": 12
        }
      ]
    },
    {
      "cell_type": "code",
      "metadata": {
        "colab": {
          "base_uri": "https://localhost:8080/"
        },
        "id": "HfZ7R1aUhUWU",
        "outputId": "b6c85b26-2021-4053-993e-f3e00edcfb8b"
      },
      "source": [
        "df_eps.isnull().sum()"
      ],
      "execution_count": 13,
      "outputs": [
        {
          "output_type": "execute_result",
          "data": {
            "text/plain": [
              "id            0\n",
              "name          0\n",
              "air_date      0\n",
              "episode       0\n",
              "characters    0\n",
              "dtype: int64"
            ]
          },
          "metadata": {},
          "execution_count": 13
        }
      ]
    },
    {
      "cell_type": "markdown",
      "metadata": {
        "id": "c0N-D91Z-pwq"
      },
      "source": [
        "### Mengubah nama kolom\n",
        "\n",
        "Pada DataFrame, ada kolom yang namanya kurang tepat merepresentasikan data tersebut. Seperti pada `character`, kolom origin dan location sama-sama merepresentasikan lokasi karakter tetapi bedanya origin merepresentasikan lokasi asal dan location merepresentasikan lokasi terakhir.\n",
        "\n",
        "Oleh karena itu, pada DataFrame `character`, kolom `origin` akan diubah menjadi `origin_location` dan `location` menjadi `latest_location`\n",
        "\n",
        "Selain itu, pada DataFrame `episode`, kolom `episode` akan diubah menjadi `episode_code`\n",
        "\n",
        "Kode-kode selanjutnya digunakan untuk mengecek apakah perubahan yang dilakukan berhasil atau tidak."
      ]
    },
    {
      "cell_type": "code",
      "metadata": {
        "id": "lMRGnwNMbDDw"
      },
      "source": [
        "#Ubah nama kolom origin jadi kolom origin_location, location jadi kolom latest_location, dan episode jadi episode_code\n",
        "def renameColumns(dict_column, df, nama_df):\n",
        "  kolomLama = ', '.join(dict_column.keys())\n",
        "  kolomBaru = ', '.join(dict_column.values())\n",
        "  log(f'Mengganti kolom [{kolomLama}] menjadi kolom [{kolomBaru}] pada DataFrame {nama_df}')\n",
        "  df = df.rename(columns = dict_column)\n",
        "  return df\n",
        "\n",
        "df_chara = renameColumns({'origin':'origin_location','location':'latest_location'}, df_chara, \"Character\")\n",
        "df_eps = renameColumns({'episode':'episode_code'}, df_eps, \"Episode\")"
      ],
      "execution_count": 14,
      "outputs": []
    },
    {
      "cell_type": "code",
      "metadata": {
        "colab": {
          "base_uri": "https://localhost:8080/"
        },
        "id": "G39viclmkq7P",
        "outputId": "92d8656d-2db4-495a-cf70-5131dea1cd51"
      },
      "source": [
        "df_chara.info()"
      ],
      "execution_count": 15,
      "outputs": [
        {
          "output_type": "stream",
          "name": "stdout",
          "text": [
            "<class 'pandas.core.frame.DataFrame'>\n",
            "RangeIndex: 671 entries, 0 to 670\n",
            "Data columns (total 10 columns):\n",
            " #   Column           Non-Null Count  Dtype \n",
            "---  ------           --------------  ----- \n",
            " 0   id               671 non-null    int64 \n",
            " 1   name             671 non-null    object\n",
            " 2   status           671 non-null    object\n",
            " 3   species          671 non-null    object\n",
            " 4   type             324 non-null    object\n",
            " 5   gender           671 non-null    object\n",
            " 6   origin_location  671 non-null    object\n",
            " 7   latest_location  671 non-null    object\n",
            " 8   image            671 non-null    object\n",
            " 9   episode          671 non-null    object\n",
            "dtypes: int64(1), object(9)\n",
            "memory usage: 52.5+ KB\n"
          ]
        }
      ]
    },
    {
      "cell_type": "code",
      "metadata": {
        "colab": {
          "base_uri": "https://localhost:8080/"
        },
        "id": "DGrXgQ5TksPg",
        "outputId": "f2585e67-8fb9-4c72-a5c3-409e04538d73"
      },
      "source": [
        "df_eps.info()"
      ],
      "execution_count": 16,
      "outputs": [
        {
          "output_type": "stream",
          "name": "stdout",
          "text": [
            "<class 'pandas.core.frame.DataFrame'>\n",
            "RangeIndex: 41 entries, 0 to 40\n",
            "Data columns (total 5 columns):\n",
            " #   Column        Non-Null Count  Dtype \n",
            "---  ------        --------------  ----- \n",
            " 0   id            41 non-null     int64 \n",
            " 1   name          41 non-null     object\n",
            " 2   air_date      41 non-null     object\n",
            " 3   episode_code  41 non-null     object\n",
            " 4   characters    41 non-null     object\n",
            "dtypes: int64(1), object(4)\n",
            "memory usage: 1.7+ KB\n"
          ]
        }
      ]
    },
    {
      "cell_type": "markdown",
      "metadata": {
        "id": "rqsC_QXMAAhe"
      },
      "source": [
        "###Mengubah kolom bertipe data dict menjadi tipe data lain\n",
        "\n",
        "Jika data ingin dibentuk dalam bentuk data terstruktur, kolom-kolom pada data tersebutnya sebaiknya tidak menyimpan nilai yang bersifat list atau array ataupun dictionary yang dapat menyimpan banyak nilai. \n",
        "\n",
        "Pada DataFrame `character`, `origin_location` dan `latest_location` menyimpan sebuah dictionary yang berupa nama lokasi dan url ke data lokasi tersebut. Oleh karena itu, nilai pada kolom tersebut akan diubah sehingga hanya menyimpan nama lokasi tersebut dan membuang urlnya.\n",
        "\n",
        "Kode selanjutnya mengecek apakah perubahannya berhasil atau tidak."
      ]
    },
    {
      "cell_type": "code",
      "metadata": {
        "id": "nAjGlILl8FWP"
      },
      "source": [
        "#Ubah dict sehingga menjadi namanya saja\n",
        "def ubahDict(columns,df,atributs):\n",
        "  for i in range(len(columns)):\n",
        "    log(f'Ubah dict pada kolom {columns[i]} sehingga menjadi {atributs[i]}nya saja')\n",
        "    df[columns[i]] = df[columns[i]].apply(lambda x: x[atributs[i]])\n",
        "  return df\n",
        "\n",
        "df_chara = ubahDict(['origin_location','latest_location'],df_chara, ['name','name'])"
      ],
      "execution_count": 17,
      "outputs": []
    },
    {
      "cell_type": "code",
      "metadata": {
        "colab": {
          "base_uri": "https://localhost:8080/",
          "height": 0
        },
        "id": "Ps5h9UiLokD9",
        "outputId": "d4aefa5e-68d8-4dbf-f396-585235ded700"
      },
      "source": [
        "df_chara.head()"
      ],
      "execution_count": 18,
      "outputs": [
        {
          "output_type": "execute_result",
          "data": {
            "text/html": [
              "<div>\n",
              "<style scoped>\n",
              "    .dataframe tbody tr th:only-of-type {\n",
              "        vertical-align: middle;\n",
              "    }\n",
              "\n",
              "    .dataframe tbody tr th {\n",
              "        vertical-align: top;\n",
              "    }\n",
              "\n",
              "    .dataframe thead th {\n",
              "        text-align: right;\n",
              "    }\n",
              "</style>\n",
              "<table border=\"1\" class=\"dataframe\">\n",
              "  <thead>\n",
              "    <tr style=\"text-align: right;\">\n",
              "      <th></th>\n",
              "      <th>id</th>\n",
              "      <th>name</th>\n",
              "      <th>status</th>\n",
              "      <th>species</th>\n",
              "      <th>type</th>\n",
              "      <th>gender</th>\n",
              "      <th>origin_location</th>\n",
              "      <th>latest_location</th>\n",
              "      <th>image</th>\n",
              "      <th>episode</th>\n",
              "    </tr>\n",
              "  </thead>\n",
              "  <tbody>\n",
              "    <tr>\n",
              "      <th>0</th>\n",
              "      <td>1</td>\n",
              "      <td>Rick Sanchez</td>\n",
              "      <td>Alive</td>\n",
              "      <td>Human</td>\n",
              "      <td>NaN</td>\n",
              "      <td>Male</td>\n",
              "      <td>Earth (C-137)</td>\n",
              "      <td>Earth (Replacement Dimension)</td>\n",
              "      <td>https://rickandmortyapi.com/api/character/avat...</td>\n",
              "      <td>[https://rickandmortyapi.com/api/episode/1, ht...</td>\n",
              "    </tr>\n",
              "    <tr>\n",
              "      <th>1</th>\n",
              "      <td>2</td>\n",
              "      <td>Morty Smith</td>\n",
              "      <td>Alive</td>\n",
              "      <td>Human</td>\n",
              "      <td>NaN</td>\n",
              "      <td>Male</td>\n",
              "      <td>Earth (C-137)</td>\n",
              "      <td>Earth (Replacement Dimension)</td>\n",
              "      <td>https://rickandmortyapi.com/api/character/avat...</td>\n",
              "      <td>[https://rickandmortyapi.com/api/episode/1, ht...</td>\n",
              "    </tr>\n",
              "    <tr>\n",
              "      <th>2</th>\n",
              "      <td>3</td>\n",
              "      <td>Summer Smith</td>\n",
              "      <td>Alive</td>\n",
              "      <td>Human</td>\n",
              "      <td>NaN</td>\n",
              "      <td>Female</td>\n",
              "      <td>Earth (Replacement Dimension)</td>\n",
              "      <td>Earth (Replacement Dimension)</td>\n",
              "      <td>https://rickandmortyapi.com/api/character/avat...</td>\n",
              "      <td>[https://rickandmortyapi.com/api/episode/6, ht...</td>\n",
              "    </tr>\n",
              "    <tr>\n",
              "      <th>3</th>\n",
              "      <td>4</td>\n",
              "      <td>Beth Smith</td>\n",
              "      <td>Alive</td>\n",
              "      <td>Human</td>\n",
              "      <td>NaN</td>\n",
              "      <td>Female</td>\n",
              "      <td>Earth (Replacement Dimension)</td>\n",
              "      <td>Earth (Replacement Dimension)</td>\n",
              "      <td>https://rickandmortyapi.com/api/character/avat...</td>\n",
              "      <td>[https://rickandmortyapi.com/api/episode/6, ht...</td>\n",
              "    </tr>\n",
              "    <tr>\n",
              "      <th>4</th>\n",
              "      <td>5</td>\n",
              "      <td>Jerry Smith</td>\n",
              "      <td>Alive</td>\n",
              "      <td>Human</td>\n",
              "      <td>NaN</td>\n",
              "      <td>Male</td>\n",
              "      <td>Earth (Replacement Dimension)</td>\n",
              "      <td>Earth (Replacement Dimension)</td>\n",
              "      <td>https://rickandmortyapi.com/api/character/avat...</td>\n",
              "      <td>[https://rickandmortyapi.com/api/episode/6, ht...</td>\n",
              "    </tr>\n",
              "  </tbody>\n",
              "</table>\n",
              "</div>"
            ],
            "text/plain": [
              "   id  ...                                            episode\n",
              "0   1  ...  [https://rickandmortyapi.com/api/episode/1, ht...\n",
              "1   2  ...  [https://rickandmortyapi.com/api/episode/1, ht...\n",
              "2   3  ...  [https://rickandmortyapi.com/api/episode/6, ht...\n",
              "3   4  ...  [https://rickandmortyapi.com/api/episode/6, ht...\n",
              "4   5  ...  [https://rickandmortyapi.com/api/episode/6, ht...\n",
              "\n",
              "[5 rows x 10 columns]"
            ]
          },
          "metadata": {},
          "execution_count": 18
        }
      ]
    },
    {
      "cell_type": "markdown",
      "metadata": {
        "id": "7Jac5r-BBw6x"
      },
      "source": [
        "###Menambah kolom baru dengan nilai NaN\n",
        "\n",
        "Sebelum proses Load, DataFrame `character` dan `location` akan digabung menjadi satu DataFrame. Oleh karena itu, data-data dari DataFrame `location` yang akan digabung pada DataFrame `character` harus disimpan dalam sebuah kolom baru pada DataFrame `character`.\n",
        "\n",
        "Untuk memudahkan pemindahan data, dibuatlah kolom baru dengan nilai kosong yang akan diupdate pada saat penggabungan DataFramenya.\n",
        "\n",
        "Kode selanjutnya mengecek apakah kolom tersebut berhasil ditambahkan atau tidak."
      ]
    },
    {
      "cell_type": "code",
      "metadata": {
        "id": "07nRhWe87YQS"
      },
      "source": [
        "#Menambah kolom baru kepada df_chara dengan nilai NaN\n",
        "def addColumn(pos, name, values, df, nama_df):\n",
        "  kolom_baru = ', '.join(name)\n",
        "  log(f'Menambah kolom {kolom_baru} pada DataFrame {nama_df}')\n",
        "  for i in range(len(pos)):\n",
        "    df.insert(pos[i], name[i], values[i])\n",
        "  return df\n",
        "\n",
        "df_chara = addColumn([7,8,10,11],\n",
        "                     ['origin_dimension',\n",
        "                      'origin_location_type',\n",
        "                      'latest_dimension', \n",
        "                      'latest_location_type'], \n",
        "                     [[np.nan]*df_chara.shape[0] for i in range(4)],\n",
        "                     df_chara, 'Character')"
      ],
      "execution_count": 19,
      "outputs": []
    },
    {
      "cell_type": "code",
      "metadata": {
        "colab": {
          "base_uri": "https://localhost:8080/",
          "height": 0
        },
        "id": "F2fBbJyz8zLM",
        "outputId": "598f5807-9a96-48af-acf5-a85092c4702f"
      },
      "source": [
        "df_chara.head()"
      ],
      "execution_count": 20,
      "outputs": [
        {
          "output_type": "execute_result",
          "data": {
            "text/html": [
              "<div>\n",
              "<style scoped>\n",
              "    .dataframe tbody tr th:only-of-type {\n",
              "        vertical-align: middle;\n",
              "    }\n",
              "\n",
              "    .dataframe tbody tr th {\n",
              "        vertical-align: top;\n",
              "    }\n",
              "\n",
              "    .dataframe thead th {\n",
              "        text-align: right;\n",
              "    }\n",
              "</style>\n",
              "<table border=\"1\" class=\"dataframe\">\n",
              "  <thead>\n",
              "    <tr style=\"text-align: right;\">\n",
              "      <th></th>\n",
              "      <th>id</th>\n",
              "      <th>name</th>\n",
              "      <th>status</th>\n",
              "      <th>species</th>\n",
              "      <th>type</th>\n",
              "      <th>gender</th>\n",
              "      <th>origin_location</th>\n",
              "      <th>origin_dimension</th>\n",
              "      <th>origin_location_type</th>\n",
              "      <th>latest_location</th>\n",
              "      <th>latest_dimension</th>\n",
              "      <th>latest_location_type</th>\n",
              "      <th>image</th>\n",
              "      <th>episode</th>\n",
              "    </tr>\n",
              "  </thead>\n",
              "  <tbody>\n",
              "    <tr>\n",
              "      <th>0</th>\n",
              "      <td>1</td>\n",
              "      <td>Rick Sanchez</td>\n",
              "      <td>Alive</td>\n",
              "      <td>Human</td>\n",
              "      <td>NaN</td>\n",
              "      <td>Male</td>\n",
              "      <td>Earth (C-137)</td>\n",
              "      <td>NaN</td>\n",
              "      <td>NaN</td>\n",
              "      <td>Earth (Replacement Dimension)</td>\n",
              "      <td>NaN</td>\n",
              "      <td>NaN</td>\n",
              "      <td>https://rickandmortyapi.com/api/character/avat...</td>\n",
              "      <td>[https://rickandmortyapi.com/api/episode/1, ht...</td>\n",
              "    </tr>\n",
              "    <tr>\n",
              "      <th>1</th>\n",
              "      <td>2</td>\n",
              "      <td>Morty Smith</td>\n",
              "      <td>Alive</td>\n",
              "      <td>Human</td>\n",
              "      <td>NaN</td>\n",
              "      <td>Male</td>\n",
              "      <td>Earth (C-137)</td>\n",
              "      <td>NaN</td>\n",
              "      <td>NaN</td>\n",
              "      <td>Earth (Replacement Dimension)</td>\n",
              "      <td>NaN</td>\n",
              "      <td>NaN</td>\n",
              "      <td>https://rickandmortyapi.com/api/character/avat...</td>\n",
              "      <td>[https://rickandmortyapi.com/api/episode/1, ht...</td>\n",
              "    </tr>\n",
              "    <tr>\n",
              "      <th>2</th>\n",
              "      <td>3</td>\n",
              "      <td>Summer Smith</td>\n",
              "      <td>Alive</td>\n",
              "      <td>Human</td>\n",
              "      <td>NaN</td>\n",
              "      <td>Female</td>\n",
              "      <td>Earth (Replacement Dimension)</td>\n",
              "      <td>NaN</td>\n",
              "      <td>NaN</td>\n",
              "      <td>Earth (Replacement Dimension)</td>\n",
              "      <td>NaN</td>\n",
              "      <td>NaN</td>\n",
              "      <td>https://rickandmortyapi.com/api/character/avat...</td>\n",
              "      <td>[https://rickandmortyapi.com/api/episode/6, ht...</td>\n",
              "    </tr>\n",
              "    <tr>\n",
              "      <th>3</th>\n",
              "      <td>4</td>\n",
              "      <td>Beth Smith</td>\n",
              "      <td>Alive</td>\n",
              "      <td>Human</td>\n",
              "      <td>NaN</td>\n",
              "      <td>Female</td>\n",
              "      <td>Earth (Replacement Dimension)</td>\n",
              "      <td>NaN</td>\n",
              "      <td>NaN</td>\n",
              "      <td>Earth (Replacement Dimension)</td>\n",
              "      <td>NaN</td>\n",
              "      <td>NaN</td>\n",
              "      <td>https://rickandmortyapi.com/api/character/avat...</td>\n",
              "      <td>[https://rickandmortyapi.com/api/episode/6, ht...</td>\n",
              "    </tr>\n",
              "    <tr>\n",
              "      <th>4</th>\n",
              "      <td>5</td>\n",
              "      <td>Jerry Smith</td>\n",
              "      <td>Alive</td>\n",
              "      <td>Human</td>\n",
              "      <td>NaN</td>\n",
              "      <td>Male</td>\n",
              "      <td>Earth (Replacement Dimension)</td>\n",
              "      <td>NaN</td>\n",
              "      <td>NaN</td>\n",
              "      <td>Earth (Replacement Dimension)</td>\n",
              "      <td>NaN</td>\n",
              "      <td>NaN</td>\n",
              "      <td>https://rickandmortyapi.com/api/character/avat...</td>\n",
              "      <td>[https://rickandmortyapi.com/api/episode/6, ht...</td>\n",
              "    </tr>\n",
              "  </tbody>\n",
              "</table>\n",
              "</div>"
            ],
            "text/plain": [
              "   id  ...                                            episode\n",
              "0   1  ...  [https://rickandmortyapi.com/api/episode/1, ht...\n",
              "1   2  ...  [https://rickandmortyapi.com/api/episode/1, ht...\n",
              "2   3  ...  [https://rickandmortyapi.com/api/episode/6, ht...\n",
              "3   4  ...  [https://rickandmortyapi.com/api/episode/6, ht...\n",
              "4   5  ...  [https://rickandmortyapi.com/api/episode/6, ht...\n",
              "\n",
              "[5 rows x 14 columns]"
            ]
          },
          "metadata": {},
          "execution_count": 20
        }
      ]
    },
    {
      "cell_type": "markdown",
      "metadata": {
        "id": "UQ1FsbrwC2nH"
      },
      "source": [
        "###Menggabungkan DataFrame character dan DataFrame location\n",
        "\n",
        "Data yang akan digabungkan pada DataFrame `character` dari DataFrame `location` adalah kolom `dimension` dan kolom `type`.\n",
        "\n",
        "Penggabungannya akan berdasarkan 2 kolom yang menyimpan nama lokasi di DataFrame `character` yaitu `origin_location` dan `latest_location`. Setiap nilai pada kolom ini akan dicocokkan dengan kolom `name` pada DataFrame `location` untuk mengisi kolom `origin_dimension`, `origin_location_type`, `latest_dimension`, dan `latest_location_type`.\n",
        "\n",
        "Sayangnya, ada beberapa data `location` yang tidak dapat digabungkan dikarenakan tidak ada karakter yang berasal dari lokasi tersebut ataupun terakhir berada di lokasi tersebut. Untuk data `location` yang hilang dapat dilihat pada kode kedua.\n",
        "\n",
        "Kode ketiga akan mengecek apakah proses penggabungannya berhasil atau tidak."
      ]
    },
    {
      "cell_type": "code",
      "metadata": {
        "id": "9fZdKHGb_PoM"
      },
      "source": [
        "#Mengubah nilai kolom origin_dimension, origin_location_type, latest_dimension, dan latest_location_type berdasarkan df_location\n",
        "def combine(df1,df2,keyDf1,keyDf2, nama_df1, nama_df2, kolomDf1, kolomDf2):\n",
        "  nama_kolom = ', '.join(kolomDf1)\n",
        "  log(f\"Mengubah nilai kolom [{nama_kolom}] pada DataFrame {nama_df1} berdasarkan DataFrame {nama_df2}\")\n",
        "  for i in range(len(df2[keyDf2])):\n",
        "    for j in range(len(kolomDf1)):\n",
        "      x = kolomDf1[j]\n",
        "      y = kolomDf2[j]\n",
        "      df1[x] = df1[x].mask(df1[keyDf1] == df2[keyDf2][i], df2[y][i])\n",
        "  return df1\n",
        "\n",
        "log(\"Menggabung DataFrame Character dan DataFrame Location\")\n",
        "df_chara = combine(df_chara,df_location, 'origin_location' ,'name', 'Character', 'Location',\n",
        "        ['origin_dimension','origin_location_type'],['dimension','type'])\n",
        "df_chara = combine(df_chara,df_location, 'latest_location' ,'name', 'Character', 'Location',\n",
        "        ['latest_dimension','latest_location_type'],['dimension','type'])"
      ],
      "execution_count": 21,
      "outputs": []
    },
    {
      "cell_type": "code",
      "metadata": {
        "colab": {
          "base_uri": "https://localhost:8080/",
          "height": 0
        },
        "id": "Ib6oqY9dDo0y",
        "outputId": "19a68597-0fb7-4271-88e8-0b9605e64ff3"
      },
      "source": [
        "#Data yang tidak tergabung\n",
        "list_lokasi = set(np.concatenate((df_chara['origin_location'].to_numpy(), df_chara['latest_location'].to_numpy()), axis=None))\n",
        "df_location[df_location['name'].isin(list_lokasi)==False]"
      ],
      "execution_count": 22,
      "outputs": [
        {
          "output_type": "execute_result",
          "data": {
            "text/html": [
              "<div>\n",
              "<style scoped>\n",
              "    .dataframe tbody tr th:only-of-type {\n",
              "        vertical-align: middle;\n",
              "    }\n",
              "\n",
              "    .dataframe tbody tr th {\n",
              "        vertical-align: top;\n",
              "    }\n",
              "\n",
              "    .dataframe thead th {\n",
              "        text-align: right;\n",
              "    }\n",
              "</style>\n",
              "<table border=\"1\" class=\"dataframe\">\n",
              "  <thead>\n",
              "    <tr style=\"text-align: right;\">\n",
              "      <th></th>\n",
              "      <th>id</th>\n",
              "      <th>name</th>\n",
              "      <th>type</th>\n",
              "      <th>dimension</th>\n",
              "      <th>residents</th>\n",
              "    </tr>\n",
              "  </thead>\n",
              "  <tbody>\n",
              "    <tr>\n",
              "      <th>66</th>\n",
              "      <td>67</td>\n",
              "      <td>Blips and Chitz</td>\n",
              "      <td>Arcade</td>\n",
              "      <td>Replacement Dimension</td>\n",
              "      <td>[]</td>\n",
              "    </tr>\n",
              "    <tr>\n",
              "      <th>68</th>\n",
              "      <td>69</td>\n",
              "      <td>Earth (C-35)</td>\n",
              "      <td>Planet</td>\n",
              "      <td>Dimension C-35</td>\n",
              "      <td>[]</td>\n",
              "    </tr>\n",
              "    <tr>\n",
              "      <th>94</th>\n",
              "      <td>95</td>\n",
              "      <td>New Improved Galactic Federation Quarters</td>\n",
              "      <td>Space station</td>\n",
              "      <td>Replacement Dimension</td>\n",
              "      <td>[]</td>\n",
              "    </tr>\n",
              "  </tbody>\n",
              "</table>\n",
              "</div>"
            ],
            "text/plain": [
              "    id  ... residents\n",
              "66  67  ...        []\n",
              "68  69  ...        []\n",
              "94  95  ...        []\n",
              "\n",
              "[3 rows x 5 columns]"
            ]
          },
          "metadata": {},
          "execution_count": 22
        }
      ]
    },
    {
      "cell_type": "code",
      "metadata": {
        "colab": {
          "base_uri": "https://localhost:8080/",
          "height": 0
        },
        "id": "a-8YPelJDiV7",
        "outputId": "ec0e0ce5-b86b-491f-d388-10e0b2d18d3d"
      },
      "source": [
        "df_chara.head()"
      ],
      "execution_count": 23,
      "outputs": [
        {
          "output_type": "execute_result",
          "data": {
            "text/html": [
              "<div>\n",
              "<style scoped>\n",
              "    .dataframe tbody tr th:only-of-type {\n",
              "        vertical-align: middle;\n",
              "    }\n",
              "\n",
              "    .dataframe tbody tr th {\n",
              "        vertical-align: top;\n",
              "    }\n",
              "\n",
              "    .dataframe thead th {\n",
              "        text-align: right;\n",
              "    }\n",
              "</style>\n",
              "<table border=\"1\" class=\"dataframe\">\n",
              "  <thead>\n",
              "    <tr style=\"text-align: right;\">\n",
              "      <th></th>\n",
              "      <th>id</th>\n",
              "      <th>name</th>\n",
              "      <th>status</th>\n",
              "      <th>species</th>\n",
              "      <th>type</th>\n",
              "      <th>gender</th>\n",
              "      <th>origin_location</th>\n",
              "      <th>origin_dimension</th>\n",
              "      <th>origin_location_type</th>\n",
              "      <th>latest_location</th>\n",
              "      <th>latest_dimension</th>\n",
              "      <th>latest_location_type</th>\n",
              "      <th>image</th>\n",
              "      <th>episode</th>\n",
              "    </tr>\n",
              "  </thead>\n",
              "  <tbody>\n",
              "    <tr>\n",
              "      <th>0</th>\n",
              "      <td>1</td>\n",
              "      <td>Rick Sanchez</td>\n",
              "      <td>Alive</td>\n",
              "      <td>Human</td>\n",
              "      <td>NaN</td>\n",
              "      <td>Male</td>\n",
              "      <td>Earth (C-137)</td>\n",
              "      <td>Dimension C-137</td>\n",
              "      <td>Planet</td>\n",
              "      <td>Earth (Replacement Dimension)</td>\n",
              "      <td>Replacement Dimension</td>\n",
              "      <td>Planet</td>\n",
              "      <td>https://rickandmortyapi.com/api/character/avat...</td>\n",
              "      <td>[https://rickandmortyapi.com/api/episode/1, ht...</td>\n",
              "    </tr>\n",
              "    <tr>\n",
              "      <th>1</th>\n",
              "      <td>2</td>\n",
              "      <td>Morty Smith</td>\n",
              "      <td>Alive</td>\n",
              "      <td>Human</td>\n",
              "      <td>NaN</td>\n",
              "      <td>Male</td>\n",
              "      <td>Earth (C-137)</td>\n",
              "      <td>Dimension C-137</td>\n",
              "      <td>Planet</td>\n",
              "      <td>Earth (Replacement Dimension)</td>\n",
              "      <td>Replacement Dimension</td>\n",
              "      <td>Planet</td>\n",
              "      <td>https://rickandmortyapi.com/api/character/avat...</td>\n",
              "      <td>[https://rickandmortyapi.com/api/episode/1, ht...</td>\n",
              "    </tr>\n",
              "    <tr>\n",
              "      <th>2</th>\n",
              "      <td>3</td>\n",
              "      <td>Summer Smith</td>\n",
              "      <td>Alive</td>\n",
              "      <td>Human</td>\n",
              "      <td>NaN</td>\n",
              "      <td>Female</td>\n",
              "      <td>Earth (Replacement Dimension)</td>\n",
              "      <td>Replacement Dimension</td>\n",
              "      <td>Planet</td>\n",
              "      <td>Earth (Replacement Dimension)</td>\n",
              "      <td>Replacement Dimension</td>\n",
              "      <td>Planet</td>\n",
              "      <td>https://rickandmortyapi.com/api/character/avat...</td>\n",
              "      <td>[https://rickandmortyapi.com/api/episode/6, ht...</td>\n",
              "    </tr>\n",
              "    <tr>\n",
              "      <th>3</th>\n",
              "      <td>4</td>\n",
              "      <td>Beth Smith</td>\n",
              "      <td>Alive</td>\n",
              "      <td>Human</td>\n",
              "      <td>NaN</td>\n",
              "      <td>Female</td>\n",
              "      <td>Earth (Replacement Dimension)</td>\n",
              "      <td>Replacement Dimension</td>\n",
              "      <td>Planet</td>\n",
              "      <td>Earth (Replacement Dimension)</td>\n",
              "      <td>Replacement Dimension</td>\n",
              "      <td>Planet</td>\n",
              "      <td>https://rickandmortyapi.com/api/character/avat...</td>\n",
              "      <td>[https://rickandmortyapi.com/api/episode/6, ht...</td>\n",
              "    </tr>\n",
              "    <tr>\n",
              "      <th>4</th>\n",
              "      <td>5</td>\n",
              "      <td>Jerry Smith</td>\n",
              "      <td>Alive</td>\n",
              "      <td>Human</td>\n",
              "      <td>NaN</td>\n",
              "      <td>Male</td>\n",
              "      <td>Earth (Replacement Dimension)</td>\n",
              "      <td>Replacement Dimension</td>\n",
              "      <td>Planet</td>\n",
              "      <td>Earth (Replacement Dimension)</td>\n",
              "      <td>Replacement Dimension</td>\n",
              "      <td>Planet</td>\n",
              "      <td>https://rickandmortyapi.com/api/character/avat...</td>\n",
              "      <td>[https://rickandmortyapi.com/api/episode/6, ht...</td>\n",
              "    </tr>\n",
              "  </tbody>\n",
              "</table>\n",
              "</div>"
            ],
            "text/plain": [
              "   id  ...                                            episode\n",
              "0   1  ...  [https://rickandmortyapi.com/api/episode/1, ht...\n",
              "1   2  ...  [https://rickandmortyapi.com/api/episode/1, ht...\n",
              "2   3  ...  [https://rickandmortyapi.com/api/episode/6, ht...\n",
              "3   4  ...  [https://rickandmortyapi.com/api/episode/6, ht...\n",
              "4   5  ...  [https://rickandmortyapi.com/api/episode/6, ht...\n",
              "\n",
              "[5 rows x 14 columns]"
            ]
          },
          "metadata": {},
          "execution_count": 23
        }
      ]
    },
    {
      "cell_type": "markdown",
      "metadata": {
        "id": "LSNeQ79TEeYZ"
      },
      "source": [
        "###Mengubah format tanggal pada kolom air_date \n",
        "\n",
        "Jika melihat contoh pada schema Episode, air_date memiliki format `Bulan TGL, TAHUN`. Ada kemungkinan beberapa bahasa pemrograman tidak dapat mengubah data ini menjadi sebuah tanggal. Oleh karena itu, dilakukanlah perubahan format tanggal menjadi DD-Bul-YYYY.\n",
        "\n",
        "Jadi, misalnya nilainya `December 13,2021` akan berubah menjadi `13-Dec-2021`\n",
        "\n",
        "Kode selanjutnya digunakan untuk mengecek apakah perubahan tersebut berhasil atau tidak."
      ]
    },
    {
      "cell_type": "code",
      "metadata": {
        "id": "efUnhoulcyvJ"
      },
      "source": [
        "#Convert air_date pada Episode menjadi DD-Mon-YYYY\n",
        "def convertDate(x):\n",
        "  x = x.split()\n",
        "  date = x[1][:-1] if (len(x[1][:-1]) > 1) else f\"0{x[1][:-1]}\"\n",
        "  return \"-\".join([date, x[0][:3], x[2]])\n",
        "\n",
        "log(\"Mengubah format air_date pada DataFrame Episode menjadi DD-Mon-YYYY\")\n",
        "df_eps['air_date'] = df_eps['air_date'].apply(convertDate)"
      ],
      "execution_count": 24,
      "outputs": []
    },
    {
      "cell_type": "code",
      "metadata": {
        "colab": {
          "base_uri": "https://localhost:8080/",
          "height": 0
        },
        "id": "X7Fg3sGpRaAa",
        "outputId": "81352f86-393f-491c-cac9-b5af4dd3914b"
      },
      "source": [
        "df_eps.head()"
      ],
      "execution_count": 25,
      "outputs": [
        {
          "output_type": "execute_result",
          "data": {
            "text/html": [
              "<div>\n",
              "<style scoped>\n",
              "    .dataframe tbody tr th:only-of-type {\n",
              "        vertical-align: middle;\n",
              "    }\n",
              "\n",
              "    .dataframe tbody tr th {\n",
              "        vertical-align: top;\n",
              "    }\n",
              "\n",
              "    .dataframe thead th {\n",
              "        text-align: right;\n",
              "    }\n",
              "</style>\n",
              "<table border=\"1\" class=\"dataframe\">\n",
              "  <thead>\n",
              "    <tr style=\"text-align: right;\">\n",
              "      <th></th>\n",
              "      <th>id</th>\n",
              "      <th>name</th>\n",
              "      <th>air_date</th>\n",
              "      <th>episode_code</th>\n",
              "      <th>characters</th>\n",
              "    </tr>\n",
              "  </thead>\n",
              "  <tbody>\n",
              "    <tr>\n",
              "      <th>0</th>\n",
              "      <td>1</td>\n",
              "      <td>Pilot</td>\n",
              "      <td>02-Dec-2013</td>\n",
              "      <td>S01E01</td>\n",
              "      <td>[https://rickandmortyapi.com/api/character/1, ...</td>\n",
              "    </tr>\n",
              "    <tr>\n",
              "      <th>1</th>\n",
              "      <td>2</td>\n",
              "      <td>Lawnmower Dog</td>\n",
              "      <td>09-Dec-2013</td>\n",
              "      <td>S01E02</td>\n",
              "      <td>[https://rickandmortyapi.com/api/character/1, ...</td>\n",
              "    </tr>\n",
              "    <tr>\n",
              "      <th>2</th>\n",
              "      <td>3</td>\n",
              "      <td>Anatomy Park</td>\n",
              "      <td>16-Dec-2013</td>\n",
              "      <td>S01E03</td>\n",
              "      <td>[https://rickandmortyapi.com/api/character/1, ...</td>\n",
              "    </tr>\n",
              "    <tr>\n",
              "      <th>3</th>\n",
              "      <td>4</td>\n",
              "      <td>M. Night Shaym-Aliens!</td>\n",
              "      <td>13-Jan-2014</td>\n",
              "      <td>S01E04</td>\n",
              "      <td>[https://rickandmortyapi.com/api/character/1, ...</td>\n",
              "    </tr>\n",
              "    <tr>\n",
              "      <th>4</th>\n",
              "      <td>5</td>\n",
              "      <td>Meeseeks and Destroy</td>\n",
              "      <td>20-Jan-2014</td>\n",
              "      <td>S01E05</td>\n",
              "      <td>[https://rickandmortyapi.com/api/character/1, ...</td>\n",
              "    </tr>\n",
              "  </tbody>\n",
              "</table>\n",
              "</div>"
            ],
            "text/plain": [
              "   id  ...                                         characters\n",
              "0   1  ...  [https://rickandmortyapi.com/api/character/1, ...\n",
              "1   2  ...  [https://rickandmortyapi.com/api/character/1, ...\n",
              "2   3  ...  [https://rickandmortyapi.com/api/character/1, ...\n",
              "3   4  ...  [https://rickandmortyapi.com/api/character/1, ...\n",
              "4   5  ...  [https://rickandmortyapi.com/api/character/1, ...\n",
              "\n",
              "[5 rows x 5 columns]"
            ]
          },
          "metadata": {},
          "execution_count": 25
        }
      ]
    },
    {
      "cell_type": "markdown",
      "metadata": {
        "id": "vOCeP-ysFpIW"
      },
      "source": [
        "###Membuat Fact table antara DataFrame Episode dan Character\n",
        "\n",
        "Jika melihat DataFrame `episode` dan DataFrame `character`, ada satu lagi kolom yang menyimpan data bertipe list, yaitu kolom `characters` pada DataFrame `episode` dan kolom `episodes` pada DataFrame `character`.\n",
        "\n",
        "Hal ini menandakan bahwa relationship antara kedua tabel ini adalah **Many-to-Many**. Untuk mengatasi relationship Many-to-Many pada data terstruktur, dibuatlah sebuah tabel baru yang menyimpan id antara kedua tabel ini. Tabel ini disebut dengan ***Fact Table***.\n",
        "\n",
        "Pada proses ini, kita akan membuat DataFrame baru yang bernama `appearance` yang akan menyimpan id dari character dan id dari episode. Tabel ini akan merepresentasikan \"Character X muncul di Episode Y\".\n",
        "\n",
        "Untuk membuat representasi tersebut, maka kita akan mengambil semua data dari kolom `episode` untuk tiap karakter. Url pada data tersebut menyimpan id dari location yang akan diambil dan ditambahkan menjadi baris baru di DataFrame `appearance`\n",
        "\n",
        "Terakhir, dilakukanlah penghapusan baris yang duplikat pada DataFrame `appearance`.\n",
        "\n",
        "Kode selanjutnya untuk mengecek apakah baris-barisnya berhasil ditambahkan atau tidak."
      ]
    },
    {
      "cell_type": "code",
      "metadata": {
        "id": "r5gIT1ZgbsxA",
        "colab": {
          "base_uri": "https://localhost:8080/"
        },
        "outputId": "4b42498f-7c0d-4752-be48-9cf6a3d98b61"
      },
      "source": [
        "#Buat Fact table antara Episode dan Character\n",
        "log(\"Membuat Fact table bernama Appearance untuk DataFrame Episode dan DataFrame Character\")\n",
        "data = []\n",
        "for i in range(len(df_chara['episode'])):\n",
        "  chara_id = df_chara['id'][i]\n",
        "  temp = [[chara_id,url[-1]] for url in set(df_chara['episode'][i])]\n",
        "  data +=temp\n",
        "df_appearance = pd.DataFrame(data = data, columns= ['character_id', 'episode_id'])\n",
        "\n",
        "print(\"Sebelum: \",df_appearance.shape)\n",
        "log(\"Menghapus tuple yang duplikat dari df_appearance\")\n",
        "df_appearance = df_appearance.drop_duplicates(keep='first', ignore_index=True)\n",
        "print(\"Setelah: \", df_appearance.shape)"
      ],
      "execution_count": 26,
      "outputs": [
        {
          "output_type": "stream",
          "name": "stdout",
          "text": [
            "Sebelum:  (1038, 2)\n",
            "Setelah:  (881, 2)\n"
          ]
        }
      ]
    },
    {
      "cell_type": "code",
      "metadata": {
        "colab": {
          "base_uri": "https://localhost:8080/",
          "height": 0
        },
        "id": "ZB7n9BVUkwuX",
        "outputId": "730fecea-8b76-47df-a0e0-80ac9ac9938a"
      },
      "source": [
        "df_appearance.head()"
      ],
      "execution_count": 27,
      "outputs": [
        {
          "output_type": "execute_result",
          "data": {
            "text/html": [
              "<div>\n",
              "<style scoped>\n",
              "    .dataframe tbody tr th:only-of-type {\n",
              "        vertical-align: middle;\n",
              "    }\n",
              "\n",
              "    .dataframe tbody tr th {\n",
              "        vertical-align: top;\n",
              "    }\n",
              "\n",
              "    .dataframe thead th {\n",
              "        text-align: right;\n",
              "    }\n",
              "</style>\n",
              "<table border=\"1\" class=\"dataframe\">\n",
              "  <thead>\n",
              "    <tr style=\"text-align: right;\">\n",
              "      <th></th>\n",
              "      <th>character_id</th>\n",
              "      <th>episode_id</th>\n",
              "    </tr>\n",
              "  </thead>\n",
              "  <tbody>\n",
              "    <tr>\n",
              "      <th>0</th>\n",
              "      <td>1</td>\n",
              "      <td>3</td>\n",
              "    </tr>\n",
              "    <tr>\n",
              "      <th>1</th>\n",
              "      <td>1</td>\n",
              "      <td>2</td>\n",
              "    </tr>\n",
              "    <tr>\n",
              "      <th>2</th>\n",
              "      <td>1</td>\n",
              "      <td>9</td>\n",
              "    </tr>\n",
              "    <tr>\n",
              "      <th>3</th>\n",
              "      <td>1</td>\n",
              "      <td>6</td>\n",
              "    </tr>\n",
              "    <tr>\n",
              "      <th>4</th>\n",
              "      <td>1</td>\n",
              "      <td>1</td>\n",
              "    </tr>\n",
              "  </tbody>\n",
              "</table>\n",
              "</div>"
            ],
            "text/plain": [
              "   character_id episode_id\n",
              "0             1          3\n",
              "1             1          2\n",
              "2             1          9\n",
              "3             1          6\n",
              "4             1          1"
            ]
          },
          "metadata": {},
          "execution_count": 27
        }
      ]
    },
    {
      "cell_type": "markdown",
      "metadata": {
        "id": "J66DV4onKfRG"
      },
      "source": [
        "###Menghapus kolom yang bertipe array dari DataFrame Episode dan Character\n",
        "\n",
        "Setelah kolom-kolom tersebut selesai digunakan untuk membuat Fact Table Appearance, kolom tersebut tidak diperlukan lagi dan sebaiknya dihapus dari DataFrame `episode` dan DataFrame `character` karena bertipe array/list.\n",
        "\n",
        "Kode selanjutnya digunakan untuk mengecek apakah penghapusan kolomnya berhasil atau tidak."
      ]
    },
    {
      "cell_type": "code",
      "metadata": {
        "id": "_wul_ZeciSKf"
      },
      "source": [
        "#Drop kolom yang bertipe array dari DataFrame Episode dan Character\n",
        "df_chara = hapusKolom(['episode'], df_chara, \"Character\")\n",
        "\n",
        "df_eps = hapusKolom(['characters'], df_eps, \"Episode\")"
      ],
      "execution_count": 28,
      "outputs": []
    },
    {
      "cell_type": "code",
      "metadata": {
        "colab": {
          "base_uri": "https://localhost:8080/"
        },
        "id": "ByDgDGvPjIoJ",
        "outputId": "c4fc4be4-68b1-486d-ba46-133e0e3c5cae"
      },
      "source": [
        "df_chara.info()"
      ],
      "execution_count": 29,
      "outputs": [
        {
          "output_type": "stream",
          "name": "stdout",
          "text": [
            "<class 'pandas.core.frame.DataFrame'>\n",
            "RangeIndex: 671 entries, 0 to 670\n",
            "Data columns (total 13 columns):\n",
            " #   Column                Non-Null Count  Dtype \n",
            "---  ------                --------------  ----- \n",
            " 0   id                    671 non-null    int64 \n",
            " 1   name                  671 non-null    object\n",
            " 2   status                671 non-null    object\n",
            " 3   species               671 non-null    object\n",
            " 4   type                  324 non-null    object\n",
            " 5   gender                671 non-null    object\n",
            " 6   origin_location       671 non-null    object\n",
            " 7   origin_dimension      399 non-null    object\n",
            " 8   origin_location_type  399 non-null    object\n",
            " 9   latest_location       671 non-null    object\n",
            " 10  latest_dimension      650 non-null    object\n",
            " 11  latest_location_type  650 non-null    object\n",
            " 12  image                 671 non-null    object\n",
            "dtypes: int64(1), object(12)\n",
            "memory usage: 68.3+ KB\n"
          ]
        }
      ]
    },
    {
      "cell_type": "code",
      "metadata": {
        "colab": {
          "base_uri": "https://localhost:8080/"
        },
        "id": "I8EF-l_VgSgP",
        "outputId": "db289174-7027-4a3a-f709-90384a36b31b"
      },
      "source": [
        "df_eps.info()"
      ],
      "execution_count": 30,
      "outputs": [
        {
          "output_type": "stream",
          "name": "stdout",
          "text": [
            "<class 'pandas.core.frame.DataFrame'>\n",
            "RangeIndex: 41 entries, 0 to 40\n",
            "Data columns (total 4 columns):\n",
            " #   Column        Non-Null Count  Dtype \n",
            "---  ------        --------------  ----- \n",
            " 0   id            41 non-null     int64 \n",
            " 1   name          41 non-null     object\n",
            " 2   air_date      41 non-null     object\n",
            " 3   episode_code  41 non-null     object\n",
            "dtypes: int64(1), object(3)\n",
            "memory usage: 1.4+ KB\n"
          ]
        }
      ]
    },
    {
      "cell_type": "markdown",
      "metadata": {
        "id": "z1yJfEsvLTcA"
      },
      "source": [
        "###Mengubah semua nilai unknown (case insensitive) menjadi NaN\n",
        "\n",
        "Di tahap awal Transformasi, nilai kosong (`''`) diubah menjadi np.nan. Nah, di tahap akhir ini, semua nilai `unknown` baik yang berbentuk UPPERCASE ataupun lowrcase akan diubah menjadi np.nan.\n",
        "\n",
        "Alasan kenapa tahap ini dilakukan di akhir karena ada kemungkinan data Unknown pada API ini malah berguna nantinya. Tetapi, setelah melihat datanya lebih lanjut seperti nama lokasi `unknown` malah memiliki `dimension` dan `type` yang np.nan, saya memutuskan untuk mengubah data `unknown` tersebut menjadi np.nan karena tidak memberikan nilai apa-apa dan hanya menyebabkan inkonsistensi pada nilai Null.\n",
        "\n",
        "Kode selanjutnya untuk mengecek banyak baris yang Null pada tiap kolom"
      ]
    },
    {
      "cell_type": "code",
      "metadata": {
        "id": "1R_3uT1jQBRS"
      },
      "source": [
        "#Mengubah semua nilai unknown (case insensitive) menjadi NaN\n",
        "df_chara = isiNull(df_chara, \"Character\", 'unknown')\n",
        "df_eps = isiNull(df_eps, \"Episode\", 'unknown')"
      ],
      "execution_count": 31,
      "outputs": []
    },
    {
      "cell_type": "code",
      "metadata": {
        "colab": {
          "base_uri": "https://localhost:8080/"
        },
        "id": "wBPJRkMrA1_9",
        "outputId": "5b224c6d-8e0d-4085-9ea4-77b3837c1e08"
      },
      "source": [
        "df_chara.isnull().sum()"
      ],
      "execution_count": 32,
      "outputs": [
        {
          "output_type": "execute_result",
          "data": {
            "text/plain": [
              "id                        0\n",
              "name                      0\n",
              "status                   80\n",
              "species                  10\n",
              "type                    347\n",
              "gender                   44\n",
              "origin_location         272\n",
              "origin_dimension        326\n",
              "origin_location_type    274\n",
              "latest_location          21\n",
              "latest_dimension        240\n",
              "latest_location_type     23\n",
              "image                     0\n",
              "dtype: int64"
            ]
          },
          "metadata": {},
          "execution_count": 32
        }
      ]
    },
    {
      "cell_type": "code",
      "metadata": {
        "colab": {
          "base_uri": "https://localhost:8080/"
        },
        "id": "zBkbDYkvQLW7",
        "outputId": "04719d80-477f-43dd-dd11-ca3dc10bb96b"
      },
      "source": [
        "df_eps.isnull().sum()"
      ],
      "execution_count": 33,
      "outputs": [
        {
          "output_type": "execute_result",
          "data": {
            "text/plain": [
              "id              0\n",
              "name            0\n",
              "air_date        0\n",
              "episode_code    0\n",
              "dtype: int64"
            ]
          },
          "metadata": {},
          "execution_count": 33
        }
      ]
    },
    {
      "cell_type": "code",
      "metadata": {
        "id": "ZO9IF3wlTZfA"
      },
      "source": [
        "log(\"Fase Transform selesai\")"
      ],
      "execution_count": 34,
      "outputs": []
    },
    {
      "cell_type": "markdown",
      "metadata": {
        "id": "MyVOjnbMInU1"
      },
      "source": [
        "#Load Data"
      ]
    },
    {
      "cell_type": "markdown",
      "metadata": {
        "id": "nO6yfuogNb2k"
      },
      "source": [
        "Fase load ini terdiri atas 4 tahap, yaitu\n",
        "\n",
        "1. Melakukan koneksi ke database\n",
        "\n",
        "Koneksi ke database bernama \"RickAndMorty\" dibuat menggunakn SQLite3\n",
        "\n",
        "2. Membuat tabel untuk tiap DataFrame\n",
        "\n",
        "Ada 3 DataFrame yang akan dimasukkan ke dalam tabel sehingga perlu 3 tabel pada SQL, yaitu tabel `character`, `episode`, dan `appearance`. Untuk tiap tabel, semua kolomnya didasarkan oleh kolom pada DataFrame-nya masing-masing. Pada tabel `character` dan `episode`, yang menjadi primary key adalah `id` yang telah dari dari DataFrame sedangkan pada tabel `appearance`, yang menjadi primary key adalah index dari DataFramenya dan kolom pada DataFramenya menjadi Foreign Key yang merujuk ke tabel `character` dan tabel `episode`.\n",
        "\n",
        "3. Mengisi data dari DataFrame ke dalam tabel\n",
        "\n",
        "Pandas telah menyediakan function yang dapat dijalankan untuk memindahkan data dari DataFrame ke tabel SQL berdasarkan koneksi SQL dan metode perpindahan datanya. Untuk proses ini, metode yang digunakan adalah `append` yang berarti jika tabelnya telah ada, datanya hanya akan langsung ditambahkan ke tabel tersebut. \n",
        "\n",
        "4. Menutup koneksi ke database\n",
        "\n",
        "Setelah proses perpindahan datanya selesai, koneksi ke database ditutup untuk menghindari penggunaan koneksi tersebut secara terus menerus"
      ]
    },
    {
      "cell_type": "markdown",
      "metadata": {
        "id": "aP2sHbXhvLp5"
      },
      "source": [
        "Terdapat beberapa command SQL yang dijalankan.\n",
        "\n",
        "```sql\n",
        "select sqlite_version()\n",
        "``` \n",
        "command ini untuk mendapatkan versi SQLite yang digunakan \n",
        "\n",
        "---\n",
        "\n",
        "```sql\n",
        "CREATE TABLE character \n",
        "      (id INTEGER PRIMARY KEY NOT NULL,\n",
        "      name TEXT NOT NULL,\n",
        "      status TEXT,\n",
        "      species TEXT,\n",
        "      type TEXT,\n",
        "      gender TEXT,\n",
        "      origin_location TEXT,\n",
        "      origin_dimension TEXT,\n",
        "      origin_location_type TEXT,\n",
        "      latest_location TEXT,\n",
        "      latest_dimension TEXT,\n",
        "      latest_location_type TEXT,\n",
        "      image TEXT NOT NULL\n",
        "      );\n",
        "```\n",
        "command ini membuat tabel character dengan 12 kolom, yaitu:\n",
        "\n",
        "1. `id` : bertipe data `int`, merupakan primary key, dan tidak boleh bernilai NULL\n",
        "2. `name` : bertipe data `text` dan tidak boleh bernilai NULL\n",
        "3. `status` : bertipe data `text` dan boleh bernilai NULL\n",
        "4. `species` : bertipe data `text` dan boleh bernilai NULL\n",
        "5. `type` : bertipe data `text` dan boleh bernilai NULL\n",
        "6. `gender` : bertipe data `text` dan boleh bernilai NULL\n",
        "7. `origin_location` : bertipe data `text` dan boleh bernilai NULL\n",
        "8. `origin_dimension` : bertipe data `text` dan boleh bernilai NULL\n",
        "9. `origin_location_type` : bertipe data `text` dan boleh bernilai NULL\n",
        "10. `latest_location` : bertipe data `text` dan boleh bernilai NULL\n",
        "11. `latest_dimension`: bertipe data `text` dan boleh bernilai NULL\n",
        "12. `latest_location_type` : bertipe data `text` dan boleh bernilai NULL\n",
        "13. `image` : bertipe data `text` dan tidak boleh bernilai NULL\n",
        "\n",
        "---\n",
        "\n",
        "```sql\n",
        "CREATE TABLE episode \n",
        "      (id INTEGER PRIMARY KEY NOT NULL,\n",
        "      name TEXT NOT NULL,\n",
        "      air_date TEXT NOT NULL,\n",
        "      episode_code TEXT NOT NULL\n",
        "      );\n",
        "```\n",
        "command ini membuat tabel episode dengan 4 kolom, yaitu:\n",
        "\n",
        "1. `id` : bertipe data `int`, merupakan primary key, dan tidak boleh bernilai NULL\n",
        "2. `name` : bertipe data `text` dan tidak boleh bernilai NULL\n",
        "3. `air_date` : bertipe data `text` dan tidak boleh bernilai NULL\n",
        "4. `episode_code` : bertipe data `text` dan tidak boleh bernilai NULL\n",
        "\n",
        "---\n",
        "\n",
        "```sql\n",
        "CREATE TABLE appearance \n",
        "      (id INTEGER PRIMARY KEY NOT NULL,\n",
        "      character_id INTEGER REFERENCES character(id) NOT NULL,\n",
        "      episode_id INTEGER REFERENCES episode(id) NOT NULL\n",
        "      );\n",
        "```\n",
        "command ini membuat tabel episode dengan 3 kolom, yaitu:\n",
        "\n",
        "1. `id` : bertipe data `int`, merupakan primary key, dan tidak boleh bernilai NULL\n",
        "2. `character_id` : bertipe data `int`, merupakan foreign key yang merujuk ke kolom `id` pada tabel `character`, dan tidak boleh bernilai NULL\n",
        "3. `episode_id` : bertipe data `int`, merupakan foreign key yang merujuk ke kolom `id` pada tabel `episode`, dan tidak boleh bernilai NULL\n"
      ]
    },
    {
      "cell_type": "code",
      "metadata": {
        "colab": {
          "base_uri": "https://localhost:8080/"
        },
        "id": "Ohowe_RVlpjs",
        "outputId": "dfb9925c-6782-4d36-cd16-d008f5682f03"
      },
      "source": [
        "log(\"Fase Load dimulai\")\n",
        "log('Membuat Database RickAndMorty.db dan membuat koneksi ke SQLite')\n",
        "\n",
        "try:\n",
        "  sqliteConnection = sqlite3.connect('RickAndMorty.db')\n",
        "  cursor = sqliteConnection.cursor()\n",
        "  print(\"Database created and Successfully Connected to SQLite\")\n",
        "\n",
        "  query = \"select sqlite_version();\"\n",
        "  cursor.execute(query)\n",
        "  record = cursor.fetchall()\n",
        "  print(\"SQLite Database Version is: \", record)\n",
        "\n",
        "  log(\"Membuat tabel character\")\n",
        "  query = \"\"\"CREATE TABLE character \n",
        "      (id INTEGER PRIMARY KEY NOT NULL,\n",
        "      name TEXT NOT NULL,\n",
        "      status TEXT,\n",
        "      species TEXT,\n",
        "      type TEXT,\n",
        "      gender TEXT,\n",
        "      origin_location TEXT,\n",
        "      origin_dimension TEXT,\n",
        "      origin_location_type TEXT,\n",
        "      latest_location TEXT,\n",
        "      latest_dimension TEXT,\n",
        "      latest_location_type TEXT,\n",
        "      image TEXT NOT NULL\n",
        "      );\"\"\"\n",
        "  cursor.execute(query)\n",
        "  sqliteConnection.commit()\n",
        "  log(\"Mengisi tabel character dari DataFrame Character\")\n",
        "  df_chara.to_sql('character', con = sqliteConnection, if_exists='append', index=False)\n",
        "\n",
        "  log(\"Membuat tabel episode\")\n",
        "  query = \"\"\"CREATE TABLE episode \n",
        "      (id INTEGER PRIMARY KEY NOT NULL,\n",
        "      name TEXT NOT NULL,\n",
        "      air_date TEXT NOT NULL,\n",
        "      episode_code TEXT NOT NULL\n",
        "      );\"\"\"\n",
        "  cursor.execute(query)\n",
        "  sqliteConnection.commit()\n",
        "  log(\"Mengisi tabel episode dari DataFrame Episode\")\n",
        "  df_eps.to_sql('episode', con = sqliteConnection, if_exists='append', index=False)\n",
        "\n",
        "  log(\"Membuat tabel appearance\")\n",
        "  query = \"\"\"CREATE TABLE appearance \n",
        "      (id INTEGER PRIMARY KEY NOT NULL,\n",
        "      character_id INTEGER REFERENCES character(id) NOT NULL,\n",
        "      episode_id INTEGER REFERENCES episode(id) NOT NULL\n",
        "      );\"\"\"\n",
        "  cursor.execute(query)\n",
        "  sqliteConnection.commit()\n",
        "  log(\"Mengisi tabel appearance dari DataFrame Appearance\")\n",
        "  df_appearance.to_sql('appearance', con = sqliteConnection, if_exists='append', index_label='id')\n",
        "  \n",
        "  cursor.close()\n",
        "\n",
        "except sqlite3.Error as error:\n",
        "  print(\"Error while connecting to sqlite\", error)\n",
        "finally:\n",
        "  if sqliteConnection:\n",
        "    sqliteConnection.close()\n",
        "    print(\"The SQLite connection is closed\")\n",
        "\n",
        "log('Database berhasil dibuat')\n",
        "log(\"Fase Load selesai\")"
      ],
      "execution_count": 35,
      "outputs": [
        {
          "output_type": "stream",
          "name": "stdout",
          "text": [
            "Database created and Successfully Connected to SQLite\n",
            "SQLite Database Version is:  [('3.22.0',)]\n",
            "The SQLite connection is closed\n"
          ]
        }
      ]
    },
    {
      "cell_type": "markdown",
      "metadata": {
        "id": "w8x59le5JDnK"
      },
      "source": [
        "#Query Data"
      ]
    },
    {
      "cell_type": "markdown",
      "metadata": {
        "id": "LkjiNfhXP2iY"
      },
      "source": [
        "##Insert Data\n",
        "\n",
        "Proses ini melakukan insert sebanyak 3 baris ke tiap-tiap tabel, ada beberapa nilai yang `NULL` untuk memperlihatkan bahwa ada beberapa kolom pada tabel yang dapat menyimpan nilai null. Setelah selesai, koneksi ke database ditutup."
      ]
    },
    {
      "cell_type": "markdown",
      "metadata": {
        "id": "zzrYRl4Xyzjg"
      },
      "source": [
        "Terdapat beberapa command SQL yang dijalankan\n",
        "\n",
        "```sql\n",
        "INSERT INTO character (name, status, species, type, gender, \n",
        "      origin_location, origin_dimension, origin_location_type, latest_location,\n",
        "      latest_dimension, latest_location_type, image)\n",
        "    VALUES\n",
        "      ('Naban', 'Alive', 'Human', NULL, 'Male', 'Earth', 'Milky Way', 'Planet', 'Earth', 'Milky Way', 'Planet', 'avatar/672'),\n",
        "      ('Candido', 'Dead', 'Crustacea', 'Crab', 'Genderless', 'Earth', 'Milky Way', 'Planet', 'Atlantis', 'Seaworld', 'Sea','avatar/673'),\n",
        "      ('Charlie Byrd', NULL, NULL, NULL, NULL, NULL, NULL, NULL, NULL, NULL, NULL, 'avatar/674');\n",
        "```\n",
        "command ini untuk menambahkan 3 baris data ke setiap kolom pada tabel `character` kecuali kolom `id`. Nilai pada kolom `id` akan bertambah saat datanya masuk. Untuk ilustrasinya adalah sebagai berikut.\n",
        "\n",
        "| name         | status | species   | type | gender     | origin_location | origin_dimension | origin_location_type | latest_location | latest_dimension | latest_location_type | image      |\n",
        "|--------------|--------|-----------|------|------------|-----------------|------------------|----------------------|-----------------|------------------|----------------------|------------|\n",
        "| Naban        | Alive  | Human     | NULL | Male       | Earth           | Milky Way        | Planet               | Earth           | Milky Way        | Planet               | avatar/672 |\n",
        "| Candido      | Dead   | Crustacea | Crab | Genderless | Earth           | Milky Way        | Planet               | Atlantis        | Seaworld         | Sea                  | avatar/673 |\n",
        "| Charlie Byrd | NULL   | NULL      | NULL | NULL       | NULL            | NULL             | NULL                 | NULL            | NULL             | NULL                 | avatar/674 |\n",
        "\n",
        "---\n",
        "\n",
        "```sql\n",
        "SELECT COUNT(*) FROM character;\n",
        "SELECT COUNT(*) FROM episode;\n",
        "SELECT COUNT(*) FROM appearance;\n",
        "```\n",
        "\n",
        "command ini untuk mencetak banyak baris pada tiap tabel\n",
        "\n",
        "---\n",
        "\n",
        "```sql\n",
        "INSERT INTO episode (name, air_date, episode_code)\n",
        "    VALUES\n",
        "      ('Mort Dinner Rick Andre', '20-Jun-2021', 'S05E01'),\n",
        "      ('Mortyplicity', '27-Jun-2021', 'S05E02'),\n",
        "      ('A Rickconvenient Mort', '04-Jul-2021', 'S05E03');\n",
        "```\n",
        "command ini untuk menambahkan 3 baris data ke setiap kolom pada tabel `episode` kecuali kolom `id`. Nilai pada kolom `id` akan bertambah saat datanya masuk. Untuk ilustrasinya adalah sebagai berikut.\n",
        "\n",
        "| name                   | air_date    | episode_code |\n",
        "|------------------------|-------------|--------------|\n",
        "| Mort Dinner Rick Andre | 20-Jun-2021 | S05E01       |\n",
        "| Mortyplicity           | 27-Jun-2021 | S05E02       |\n",
        "| A Rickconvenient Mort  | 04-Jul-2021 | S05E03       |\n",
        "\n",
        "---\n",
        "\n",
        "```sql\n",
        "INSERT INTO appearance (character_id, episode_id)\n",
        "    VALUES\n",
        "      (672, 42),\n",
        "      (673, 43),\n",
        "      (674, 44);\n",
        "```\n",
        "command ini untuk menambahkan 3 baris data ke setiap kolom pada tabel `appearance` kecuali kolom `id`. Nilai pada kolom `id` akan bertambah saat datanya masuk. Untuk ilustrasinya adalah sebagai berikut.\n",
        "\n",
        "| character_id | episode_id |\n",
        "|--------------|------------|\n",
        "| 672          | 42         |\n",
        "| 673          | 43         |\n",
        "| 674          | 44         |\n",
        "\n"
      ]
    },
    {
      "cell_type": "code",
      "metadata": {
        "colab": {
          "base_uri": "https://localhost:8080/"
        },
        "id": "5BnMNFoZWhW0",
        "outputId": "95513cce-f383-4375-eda1-77860553f7ed"
      },
      "source": [
        "#Insert\n",
        "try:\n",
        "  sqliteConnection = sqlite3.connect('RickAndMorty.db')\n",
        "  \n",
        "  cursor = sqliteConnection.cursor()\n",
        "  log(\"Melakukan Query Insert\")\n",
        "  query = \"\"\"SELECT COUNT(*) FROM character;\"\"\"\n",
        "  cursor.execute(query)\n",
        "  records = cursor.fetchall()\n",
        "  print(\"Banyak baris sebelum penambahan pada tabel character: \",records)\n",
        "  \n",
        "  log(\"Menambahkan 3 baris pada tabel character\")\n",
        "  query = \"\"\"INSERT INTO character (name, status, species, type, gender, \n",
        "      origin_location, origin_dimension, origin_location_type, latest_location,\n",
        "      latest_dimension, latest_location_type, image)\n",
        "    VALUES\n",
        "      ('Naban', 'Alive', 'Human', NULL, 'Male', 'Earth', 'Milky Way', 'Planet', 'Earth', 'Milky Way', 'Planet', 'avatar/672'),\n",
        "      ('Candido', 'Dead', 'Crustacea', 'Crab', 'Genderless', 'Earth', 'Milky Way', 'Planet', 'Atlantis', 'Seaworld', 'Sea','avatar/673'),\n",
        "      ('Charlie Byrd', NULL, NULL, NULL, NULL, NULL, NULL, NULL, NULL, NULL, NULL, 'avatar/674');\"\"\"\n",
        "  cursor.execute(query)\n",
        "  sqliteConnection.commit()\n",
        "\n",
        "  query = \"\"\"SELECT COUNT(*) FROM character;\"\"\"\n",
        "  cursor.execute(query)\n",
        "  records = cursor.fetchall()\n",
        "  print(\"Banyak baris setelah penambahan pada tabel character: \",records)\n",
        "  print(\"\")\n",
        "####################################\n",
        "  query = \"\"\"SELECT COUNT(*) FROM episode;\"\"\"\n",
        "  cursor.execute(query)\n",
        "  records = cursor.fetchall()\n",
        "  print(\"Banyak baris sebelum penambahan pada tabel episode: \",records)\n",
        "  \n",
        "  log(\"Menambahkan 3 baris pada tabel episode\")\n",
        "  query = \"\"\"INSERT INTO episode (name, air_date, episode_code)\n",
        "    VALUES\n",
        "      ('Mort Dinner Rick Andre', '20-Jun-2021', 'S05E01'),\n",
        "      ('Mortyplicity', '27-Jun-2021', 'S05E02'),\n",
        "      ('A Rickconvenient Mort', '04-Jul-2021', 'S05E03');\"\"\"\n",
        "  cursor.execute(query)\n",
        "  sqliteConnection.commit()\n",
        "\n",
        "  query = \"\"\"SELECT COUNT(*) FROM episode;\"\"\"\n",
        "  cursor.execute(query)\n",
        "  records = cursor.fetchall()\n",
        "  print(\"Banyak baris setelah penambahan pada tabel episode: \",records)\n",
        "  print(\"\")\n",
        "####################################\n",
        "  query = \"\"\"SELECT COUNT(*) FROM appearance;\"\"\"\n",
        "  cursor.execute(query)\n",
        "  records = cursor.fetchall()\n",
        "  print(\"Banyak baris sebelum penambahan pada tabel appearance: \",records)\n",
        "  \n",
        "  log(\"Menambahkan 3 baris pada tabel appearance\")\n",
        "  query = \"\"\"INSERT INTO appearance (character_id, episode_id)\n",
        "    VALUES\n",
        "      (672, 42),\n",
        "      (673, 43),\n",
        "      (674, 44);\"\"\"\n",
        "  cursor.execute(query)\n",
        "  sqliteConnection.commit()\n",
        "\n",
        "  query = \"\"\"SELECT COUNT(*) FROM appearance;\"\"\"\n",
        "  cursor.execute(query)\n",
        "  records = cursor.fetchall()\n",
        "  print(\"Banyak baris setelah penambahan pada tabel appearance: \",records)\n",
        "  cursor.close()\n",
        "\n",
        "except sqlite3.Error as error:\n",
        "  print(\"Error while connecting to sqlite\", error)\n",
        "finally:\n",
        "  if sqliteConnection:\n",
        "    sqliteConnection.close()\n",
        "    print(\"The SQLite connection is closed\")  "
      ],
      "execution_count": 36,
      "outputs": [
        {
          "output_type": "stream",
          "name": "stdout",
          "text": [
            "Banyak baris sebelum penambahan pada tabel character:  [(671,)]\n",
            "Banyak baris setelah penambahan pada tabel character:  [(674,)]\n",
            "\n",
            "Banyak baris sebelum penambahan pada tabel episode:  [(41,)]\n",
            "Banyak baris setelah penambahan pada tabel episode:  [(44,)]\n",
            "\n",
            "Banyak baris sebelum penambahan pada tabel appearance:  [(881,)]\n",
            "Banyak baris setelah penambahan pada tabel appearance:  [(884,)]\n",
            "The SQLite connection is closed\n"
          ]
        }
      ]
    },
    {
      "cell_type": "markdown",
      "metadata": {
        "id": "ojKLfKLkQfxr"
      },
      "source": [
        "##Update Data\n",
        "\n",
        "Proses ini melakukan update kepada 3 baris terakhir pada tiap tabel, kolom yang diupdate pun berbeda-beda sesuai dengan tabelnya. Pada tabel `character`, kolom yang diupdate adalah `type` dan `gender`. Pada tabel `episode`, kolom yang diupdate adalah `air_date`. Pada tabel `appearance`, kolom yang diupdate adalah `episode_id`."
      ]
    },
    {
      "cell_type": "markdown",
      "metadata": {
        "id": "0aKlPyCE44q5"
      },
      "source": [
        "Terdapat beberapa command SQL yang dijalankan\n",
        "\n",
        "```sql\n",
        "SELECT * FROM character WHERE id > 671;\n",
        "SELECT * FROM episode WHERE id > 41;\n",
        "SELECT * FROM appearance WHERE id > 880;\n",
        "```\n",
        "command ini digunakan untuk melihat baris data pada tiap tabelnya yang memenuhi kondisinya. Dalam hal ini, baris yang memiliki nilai id yang lebih besar dari angka yang diberikan pada tiap tabel. \n",
        "\n",
        "---\n",
        "\n",
        "```sql\n",
        "UPDATE character\n",
        "        SET type = 'Alien',\n",
        "            gender = 'Genderless'\n",
        "        WHERE\n",
        "            id > 671;\n",
        "```\n",
        "command ini akan menjalankan update ke tabel `character` pada baris yang memenuhi kondisi yaitu nilai id yang lebih besar dari 671. Semua baris yang memenuhi kondisi akan memiliki `type` = Alien dan `gender` = Genderless. Untuk ilustrasinya adalah sebagai berikut.\n",
        "\n",
        "| name         | status | species   | type | gender     | origin_location | origin_dimension | origin_location_type | latest_location | latest_dimension | latest_location_type | image      |\n",
        "|--------------|--------|-----------|------|------------|-----------------|------------------|----------------------|-----------------|------------------|----------------------|------------|\n",
        "| Naban        | Alive  | Human     | Alien | Genderless       | Earth           | Milky Way        | Planet               | Earth           | Milky Way        | Planet               | avatar/672 |\n",
        "| Candido      | Dead   | Crustacea | Alien | Genderless | Earth           | Milky Way        | Planet               | Atlantis        | Seaworld         | Sea                  | avatar/673 |\n",
        "| Charlie Byrd | NULL   | NULL      | Alien | Genderless       | NULL            | NULL             | NULL                 | NULL            | NULL             | NULL                 | avatar/674 |\n",
        "\n",
        "---\n",
        "\n",
        "```sql\n",
        "UPDATE episode\n",
        "        SET air_date = '26-Oct-2021'\n",
        "        WHERE\n",
        "            id > 41;\n",
        "```\n",
        "command ini akan menjalankan update ke tabel `episode` pada baris yang memenuhi kondisi yaitu nilai id yang lebih besar dari 41. Semua baris yang memenuhi kondisi akan memiliki `air_date` = 26-Oct-2021. Untuk ilustrasinya adalah sebagai berikut.\n",
        "\n",
        "| name                   | air_date    | episode_code |\n",
        "|------------------------|-------------|--------------|\n",
        "| Mort Dinner Rick Andre | 26-Oct-2021 | S05E01       |\n",
        "| Mortyplicity           | 26-Oct-2021 | S05E02       |\n",
        "| A Rickconvenient Mort  | 26-Oct-2021 | S05E03       |\n",
        "\n",
        "---\n",
        "\n",
        "```sql\n",
        "UPDATE appearance\n",
        "        SET episode_id = 40\n",
        "        WHERE\n",
        "            id > 880;\n",
        "```\n",
        "command ini akan menjalankan update ke tabel `appearance` pada baris yang memenuhi kondisi yaitu nilai id yang lebih besar dari 880. Semua baris yang memenuhi kondisi akan memiliki `episode_id` = 40. Untuk ilustrasinya adalah sebagai berikut.\n",
        "\n",
        "| character_id | episode_id |\n",
        "|--------------|------------|\n",
        "| 672          | 40         |\n",
        "| 673          | 40         |\n",
        "| 674          | 40         |"
      ]
    },
    {
      "cell_type": "code",
      "metadata": {
        "colab": {
          "base_uri": "https://localhost:8080/"
        },
        "id": "JATszAGudFag",
        "outputId": "c273314c-b7b8-4ac6-dc54-9ef7c6bc7352"
      },
      "source": [
        "#Update\n",
        "try:\n",
        "  sqliteConnection = sqlite3.connect('RickAndMorty.db')\n",
        "  \n",
        "  cursor = sqliteConnection.cursor()\n",
        "  log(\"Melakukan Query Update\")\n",
        "  query = \"\"\"SELECT * FROM character WHERE id > 671;\"\"\"\n",
        "  cursor.execute(query)\n",
        "  records = cursor.fetchall()\n",
        "  print(\"Data pada tabel character sebelum update:\")\n",
        "  for data in records:\n",
        "    print(data)\n",
        "  \n",
        "  log(\"Mengupdate 3 baris terakhir pada tabel character\")\n",
        "  query = \"\"\"UPDATE character\n",
        "        SET type = 'Alien',\n",
        "            gender = 'Genderless'\n",
        "        WHERE\n",
        "            id > 671;\"\"\"\n",
        "  cursor.execute(query)\n",
        "  sqliteConnection.commit()\n",
        "\n",
        "  query = \"\"\"SELECT * FROM character WHERE id > 671;\"\"\"\n",
        "  cursor.execute(query)\n",
        "  records = cursor.fetchall()\n",
        "  print(\"Data pada tabel character setelah update:\")\n",
        "  for data in records:\n",
        "    print(data)\n",
        "  print(\"\")\n",
        "####################################\n",
        "  query = \"\"\"SELECT * FROM episode WHERE id > 41;\"\"\"\n",
        "  cursor.execute(query)\n",
        "  records = cursor.fetchall()\n",
        "  print(\"Data pada tabel episode sebelum update:\")\n",
        "  for data in records:\n",
        "    print(data)\n",
        "  \n",
        "  log(\"Mengupdate 3 baris terakhir pada tabel episode\")\n",
        "  query = \"\"\"UPDATE episode\n",
        "        SET air_date = '26-Oct-2021'\n",
        "        WHERE\n",
        "            id > 41;\"\"\"\n",
        "  cursor.execute(query)\n",
        "  sqliteConnection.commit()\n",
        "\n",
        "  query = \"\"\"SELECT * FROM episode WHERE id > 41;\"\"\"\n",
        "  cursor.execute(query)\n",
        "  records = cursor.fetchall()\n",
        "  print(\"Data pada tabel episode setelah update:\")\n",
        "  for data in records:\n",
        "    print(data)\n",
        "  print(\"\")\n",
        "####################################\n",
        "  query = \"\"\"SELECT * FROM appearance WHERE id > 880;\"\"\"\n",
        "  cursor.execute(query)\n",
        "  records = cursor.fetchall()\n",
        "  print(\"Data pada tabel appearance sebelum update:\")\n",
        "  for data in records:\n",
        "    print(data)\n",
        "  \n",
        "  log(\"Mengupdate 3 baris terakhir pada tabel appearance\")\n",
        "  query = \"\"\"UPDATE appearance\n",
        "        SET episode_id = 40\n",
        "        WHERE\n",
        "            id > 880;\"\"\"\n",
        "  cursor.execute(query)\n",
        "  sqliteConnection.commit()\n",
        "\n",
        "  query = \"\"\"SELECT * FROM appearance WHERE id > 880;\"\"\"\n",
        "  cursor.execute(query)\n",
        "  records = cursor.fetchall()\n",
        "  print(\"Data pada tabel appearance setelah update:\")\n",
        "  for data in records:\n",
        "    print(data)\n",
        "  cursor.close()\n",
        "\n",
        "except sqlite3.Error as error:\n",
        "  print(\"Error while connecting to sqlite\", error)\n",
        "finally:\n",
        "  if sqliteConnection:\n",
        "    sqliteConnection.close()\n",
        "    print(\"The SQLite connection is closed\")"
      ],
      "execution_count": 37,
      "outputs": [
        {
          "output_type": "stream",
          "name": "stdout",
          "text": [
            "Data pada tabel character sebelum update:\n",
            "(672, 'Naban', 'Alive', 'Human', None, 'Male', 'Earth', 'Milky Way', 'Planet', 'Earth', 'Milky Way', 'Planet', 'avatar/672')\n",
            "(673, 'Candido', 'Dead', 'Crustacea', 'Crab', 'Genderless', 'Earth', 'Milky Way', 'Planet', 'Atlantis', 'Seaworld', 'Sea', 'avatar/673')\n",
            "(674, 'Charlie Byrd', None, None, None, None, None, None, None, None, None, None, 'avatar/674')\n",
            "Data pada tabel character setelah update:\n",
            "(672, 'Naban', 'Alive', 'Human', 'Alien', 'Genderless', 'Earth', 'Milky Way', 'Planet', 'Earth', 'Milky Way', 'Planet', 'avatar/672')\n",
            "(673, 'Candido', 'Dead', 'Crustacea', 'Alien', 'Genderless', 'Earth', 'Milky Way', 'Planet', 'Atlantis', 'Seaworld', 'Sea', 'avatar/673')\n",
            "(674, 'Charlie Byrd', None, None, 'Alien', 'Genderless', None, None, None, None, None, None, 'avatar/674')\n",
            "\n",
            "Data pada tabel episode sebelum update:\n",
            "(42, 'Mort Dinner Rick Andre', '20-Jun-2021', 'S05E01')\n",
            "(43, 'Mortyplicity', '27-Jun-2021', 'S05E02')\n",
            "(44, 'A Rickconvenient Mort', '04-Jul-2021', 'S05E03')\n",
            "Data pada tabel episode setelah update:\n",
            "(42, 'Mort Dinner Rick Andre', '26-Oct-2021', 'S05E01')\n",
            "(43, 'Mortyplicity', '26-Oct-2021', 'S05E02')\n",
            "(44, 'A Rickconvenient Mort', '26-Oct-2021', 'S05E03')\n",
            "\n",
            "Data pada tabel appearance sebelum update:\n",
            "(881, 672, 42)\n",
            "(882, 673, 43)\n",
            "(883, 674, 44)\n",
            "Data pada tabel appearance setelah update:\n",
            "(881, 672, 40)\n",
            "(882, 673, 40)\n",
            "(883, 674, 40)\n",
            "The SQLite connection is closed\n"
          ]
        }
      ]
    },
    {
      "cell_type": "markdown",
      "metadata": {
        "id": "LKv3avUiREfO"
      },
      "source": [
        "##Delete Data\n",
        "\n",
        "Proses ini menghapus 3 baris terakhir pada tiap tabel. Urutan penghapusannya berbeda dengan urutan insert dan update. Pada proses ini, untuk menghindari error, baris pada tabel `appearance` harus dihapus terlebih dahulu sehingga baris pada tabel `character` dan `episode` dapat dihapus. Hal ini dikarenakan tabel `appearance` menyimpan foreign key yang merujuk ke baris yang akan dihapus pada tabel `character` dan tabel `episode`."
      ]
    },
    {
      "cell_type": "markdown",
      "metadata": {
        "id": "dvirlPgm7-QH"
      },
      "source": [
        "Terdapat beberapa command SQL yang dijalankan\n",
        "\n",
        "```sql\n",
        "DELETE FROM appearance\n",
        "        WHERE id > 880;\n",
        "```\n",
        "command ini akan menghapus semua baris pada tabel `appearance` yang memenuhi kondisi yaitu id yang lebih besar dari 880. Baris yang terhapus adalah sebagai berikut.\n",
        "\n",
        "| id  | character_id | episode_id |\n",
        "|-----|--------------|------------|\n",
        "| 881 | 672          | 42         |\n",
        "| 882 | 673          | 43         |\n",
        "| 883 | 674          | 44         |\n",
        "\n",
        "---\n",
        "\n",
        "```sql\n",
        "DELETE FROM character\n",
        "        WHERE id > 671;\n",
        "```\n",
        "command ini akan menghapus semua baris pada tabel `character` yang memenuhi kondisi yaitu id yang lebih besar dari 671. Baris yang terhapus adalah sebagai berikut.\n",
        "\n",
        "| id  | name         | status | species   | type  | gender     | origin_location | origin_dimension | origin_location_type | latest_location | latest_dimension | latest_location_type | image      |\n",
        "|-----|--------------|--------|-----------|-------|------------|-----------------|------------------|----------------------|-----------------|------------------|----------------------|------------|\n",
        "| 672 | Naban        | Alive  | Human     | Alien | Genderless | Earth           | Milky Way        | Planet               | Earth           | Milky Way        | Planet               | avatar/672 |\n",
        "| 673 | Candido      | Dead   | Crustacea | Alien | Genderless | Earth           | Milky Way        | Planet               | Atlantis        | Seaworld         | Sea                  | avatar/673 |\n",
        "| 674 | Charlie Byrd | NULL   | NULL      | Alien | Genderless | NULL            | NULL             | NULL                 | NULL            | NULL             | NULL                 | avatar/674 |\n",
        "\n",
        "---\n",
        "\n",
        "```sql\n",
        "DELETE FROM episode\n",
        "        WHERE id > 41;\n",
        "```\n",
        "command ini akan menghapus semua baris pada tabel `episode` yang memenuhi kondisi yaitu id yang lebih besar dari 41. Baris yang terhapus adalah sebagai berikut.\n",
        "\n",
        "| id | name                   | air_date    | episode_code |\n",
        "|----|------------------------|-------------|--------------|\n",
        "| 42 | Mort Dinner Rick Andre | 26-Oct-2021 | S05E01       |\n",
        "| 43 | Mortyplicity           | 26-Oct-2021 | S05E02       |\n",
        "| 44 | A Rickconvenient Mort  | 26-Oct-2021 | S05E03       |"
      ]
    },
    {
      "cell_type": "code",
      "metadata": {
        "colab": {
          "base_uri": "https://localhost:8080/"
        },
        "id": "u9sgbeAVhHmt",
        "outputId": "83ad2fb0-14c6-452e-a7dd-96ac802b2d89"
      },
      "source": [
        "#Delete\n",
        "try:\n",
        "  sqliteConnection = sqlite3.connect('RickAndMorty.db')\n",
        "  \n",
        "  cursor = sqliteConnection.cursor()\n",
        "  log(\"Melakukan Query Delete\")\n",
        "  query = \"\"\"SELECT COUNT(*) FROM appearance;\"\"\"\n",
        "  cursor.execute(query)\n",
        "  records = cursor.fetchall()\n",
        "  print(\"Banyak baris sebelum penghapusan pada tabel appearance: \",records)\n",
        "  \n",
        "  log(\"Menghapus 3 baris terakhir pada tabel appearance\")\n",
        "  query = \"\"\"DELETE FROM appearance\n",
        "        WHERE id > 880;\"\"\"\n",
        "  cursor.execute(query)\n",
        "  sqliteConnection.commit()\n",
        "\n",
        "  query = \"\"\"SELECT COUNT(*) FROM appearance;\"\"\"\n",
        "  cursor.execute(query)\n",
        "  records = cursor.fetchall()\n",
        "  print(\"Banyak baris setelah penghapusan pada tabel appearance: \",records)\n",
        "  print(\"\")\n",
        "####################################\n",
        "  query = \"\"\"SELECT COUNT(*) FROM episode;\"\"\"\n",
        "  cursor.execute(query)\n",
        "  records = cursor.fetchall()\n",
        "  print(\"Banyak baris sebelum penghapusan pada tabel episode: \",records)\n",
        "  \n",
        "  log(\"Menghapus 3 baris terakhir pada tabel episode\")\n",
        "  query = \"\"\"DELETE FROM episode\n",
        "        WHERE id > 41;\"\"\"\n",
        "  cursor.execute(query)\n",
        "  sqliteConnection.commit()\n",
        "\n",
        "  query = \"\"\"SELECT COUNT(*) FROM episode;\"\"\"\n",
        "  cursor.execute(query)\n",
        "  records = cursor.fetchall()\n",
        "  print(\"Banyak baris setelah penghapusan pada tabel episode: \",records)\n",
        "  print(\"\")\n",
        "####################################\n",
        "  query = \"\"\"SELECT COUNT(*) FROM character;\"\"\"\n",
        "  cursor.execute(query)\n",
        "  records = cursor.fetchall()\n",
        "  print(\"Banyak baris sebelum penghapusan pada tabel character: \",records)\n",
        "  \n",
        "  log(\"Menghapus 3 baris terakhir pada tabel character\")\n",
        "  query = \"\"\"DELETE FROM character\n",
        "        WHERE id > 671;\"\"\"\n",
        "  cursor.execute(query)\n",
        "  sqliteConnection.commit()\n",
        "\n",
        "  query = \"\"\"SELECT COUNT(*) FROM character;\"\"\"\n",
        "  cursor.execute(query)\n",
        "  records = cursor.fetchall()\n",
        "  print(\"Banyak baris setelah penghapusan pada tabel character: \",records)\n",
        "  cursor.close()\n",
        "\n",
        "except sqlite3.Error as error:\n",
        "  print(\"Error while connecting to sqlite\", error)\n",
        "finally:\n",
        "  if sqliteConnection:\n",
        "    sqliteConnection.close()\n",
        "    print(\"The SQLite connection is closed\")"
      ],
      "execution_count": 38,
      "outputs": [
        {
          "output_type": "stream",
          "name": "stdout",
          "text": [
            "Banyak baris sebelum penghapusan pada tabel appearance:  [(884,)]\n",
            "Banyak baris setelah penghapusan pada tabel appearance:  [(881,)]\n",
            "\n",
            "Banyak baris sebelum penghapusan pada tabel episode:  [(44,)]\n",
            "Banyak baris setelah penghapusan pada tabel episode:  [(41,)]\n",
            "\n",
            "Banyak baris sebelum penghapusan pada tabel character:  [(674,)]\n",
            "Banyak baris setelah penghapusan pada tabel character:  [(671,)]\n",
            "The SQLite connection is closed\n"
          ]
        }
      ]
    },
    {
      "cell_type": "markdown",
      "metadata": {
        "id": "B0T6md5I3xe6"
      },
      "source": [
        "##Count Data\n",
        "\n",
        "Proses ini dilakukan untuk mencari beberapa informasi yang dapat diperoleh dari data yang ada."
      ]
    },
    {
      "cell_type": "markdown",
      "metadata": {
        "id": "qYTMHb-C-eJ_"
      },
      "source": [
        "Terdapat beberapa command SQL yang digunakan.\n",
        "\n",
        "```sql\n",
        "SELECT COUNT(*) FROM character WHERE gender = 'Genderless';\n",
        "```\n",
        "command diatas akan mendapatkan banyak karakter yang memiliki gender dengan nilai `Genderless`. **Total terdapat 17 karakter yang diketahui tidak memiliki gender**.\n",
        "\n",
        "---\n",
        "\n",
        "```sql\n",
        "SELECT COUNT(*) FROM episode WHERE air_date LIKE '%2020';\n",
        "```\n",
        "command diatas akan mendapatkan banyak episode yang tayang pada tahun 2020. **Total terdapat 5 episode yang tayang pada tahun 2020**.\n",
        "\n",
        "---\n",
        "\n",
        "```sql\n",
        "SELECT COUNT(*) FROM character INNER JOIN appearance on \n",
        "          character.id = appearance.character_id WHERE character.name = 'Rick Sanchez';\n",
        "```\n",
        "pertama-tama, perintah INNER JOIN akan menggabungkan tabel character dan tabel appearance berdasarkan `id` pada character yang sama dengan `character_id` pada appearance. Kemudian mencari banyak baris yang `name` pada tabel gabungan tersebut bernilai Rick Sanchez. Berdasarkan hal ini, didapatkan informasi yaitu **total terdapat 13 episode yang mana karakter bernama Rick Sanchez muncul**."
      ]
    },
    {
      "cell_type": "code",
      "metadata": {
        "colab": {
          "base_uri": "https://localhost:8080/"
        },
        "id": "gObqq3t-3wz2",
        "outputId": "be362aa9-4a46-4839-f383-f37e9bfa3ba0"
      },
      "source": [
        "#Count\n",
        "try:\n",
        "  sqliteConnection = sqlite3.connect('RickAndMorty.db')\n",
        "  \n",
        "  cursor = sqliteConnection.cursor()\n",
        "  log(\"Melakukan Query Count\")\n",
        "  query = \"\"\"SELECT COUNT(*) FROM character WHERE gender = 'Genderless';\"\"\"\n",
        "  cursor.execute(query)\n",
        "  records = cursor.fetchall()\n",
        "  print(\"Banyak karakter yang diketahui tidak memiliki gender: \",records[0][0])\n",
        "\n",
        "####################################\n",
        "  query = \"\"\"SELECT COUNT(*) FROM episode WHERE air_date LIKE '%2020';\"\"\"\n",
        "  cursor.execute(query)\n",
        "  records = cursor.fetchall()\n",
        "  print(\"Banyak episode yang tayang pada tahun 2020: \",records[0][0])\n",
        "  \n",
        "####################################\n",
        "  query = \"\"\"SELECT COUNT(*) FROM character INNER JOIN appearance on \n",
        "          character.id = appearance.character_id WHERE character.name = 'Rick Sanchez';\"\"\"\n",
        "  cursor.execute(query)\n",
        "  records = cursor.fetchall()\n",
        "  print(\"Banyak episode yang mana karakter bernama Rick Sanchez muncul : \",records[0][0])\n",
        "\n",
        "  cursor.close()\n",
        "\n",
        "except sqlite3.Error as error:\n",
        "  print(\"Error while connecting to sqlite\", error)\n",
        "finally:\n",
        "  if sqliteConnection:\n",
        "    sqliteConnection.close()\n",
        "    print(\"The SQLite connection is closed\")"
      ],
      "execution_count": 39,
      "outputs": [
        {
          "output_type": "stream",
          "name": "stdout",
          "text": [
            "Banyak karakter yang diketahui tidak memiliki gender:  17\n",
            "Banyak episode yang tayang pada tahun 2020:  5\n",
            "Banyak episode yang mana karakter bernama Rick Sanchez muncul :  13\n",
            "The SQLite connection is closed\n"
          ]
        }
      ]
    }
  ]
}